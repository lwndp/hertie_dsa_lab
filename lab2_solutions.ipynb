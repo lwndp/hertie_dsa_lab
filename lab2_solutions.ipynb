{
 "cells": [
  {
   "cell_type": "markdown",
   "metadata": {
    "collapsed": true,
    "jupyter": {
     "outputs_hidden": true
    },
    "pycharm": {
     "name": "#%% md\n"
    }
   },
   "source": [
    "# Lab 2\n",
    "## Data Structures & Algorithms"
   ]
  },
  {
   "cell_type": "markdown",
   "metadata": {
    "collapsed": false,
    "jupyter": {
     "outputs_hidden": false
    },
    "pycharm": {
     "name": "#%% md\n"
    }
   },
   "source": [
    "# Today\n",
    "\n",
    "* [What is flask?](#flask)\n",
    "* [Web development resources](#resources)\n",
    "* [Create your first flask app](#first)\n",
    "    * [Install flask](#install)\n",
    "    * [Set-up your flask app](#setup)\n",
    "    * [Run your flask app](#run)\n",
    "    * [Make changes to your app](#changes)\n",
    "    * [Create new pages](#newpages)\n",
    "    * [Pass variables to your webpage](#variables)\n",
    "    * [Use templates](#templates)\n",
    "    * [Some HTML and CSS basics](#html)\n",
    "* [Exercises](#exercises)"
   ]
  },
  {
   "cell_type": "markdown",
   "metadata": {},
   "source": [
    "# What is flask and why should we use it? <a class=\"anchor\" id=\"flask\"></a>"
   ]
  },
  {
   "cell_type": "markdown",
   "metadata": {},
   "source": [
    "* A 'microframework' to develop web applications using Python \n",
    "    - classified as a microframework because it does not include many of the tools and libraries that are typically included in more heavyweight frameworks like Django. \n",
    "    - a minimalist framework in the sense that is more flexible than normal frameworks (it does not mean that it lacks functionality)\n",
    "    - in fact, minimalism allows Flask to be highly modular and customizable\n",
    "    - it is based on subsystems that deal with details that you don't want to worry about (unless you are a senior web developer), such as routing, templating, etc. - if you are interested in more details about how Flask is designed, see this [post](https://flask.palletsprojects.com/en/2.2.x/design/#)\n",
    "* Flask is 'Pythonic', so it makes sense to learn it while learning Python, some of Python's design principles:\n",
    "    - Readibility\n",
    "    - Simplicity\n",
    "    - Uses Python’s Standard Library\n",
    "    - Minimalism & avoiding redundancy\n",
    "    - Explicity (better than implicit)\n",
    "    - Concision \n",
    "    - etc"
   ]
  },
  {
   "cell_type": "markdown",
   "metadata": {
    "collapsed": false,
    "jupyter": {
     "outputs_hidden": false
    },
    "pycharm": {
     "name": "#%% md\n"
    }
   },
   "source": [
    "# Web development resources <a class=\"anchor\" id=\"resources\"></a>"
   ]
  },
  {
   "cell_type": "markdown",
   "metadata": {
    "collapsed": false,
    "jupyter": {
     "outputs_hidden": false
    },
    "pycharm": {
     "name": "#%% md\n"
    }
   },
   "source": [
    "There are many good tutorials for creating flask apps, here is a selection:\n",
    "\n",
    "* the [Quickstart](https://flask.palletsprojects.com/en/3.0.x/quickstart/) example is a great place to start building flask apps\n",
    "* this [YouTube series](https://www.youtube.com/watch?v=MwZwr5Tvyxo&list=PL-osiE80TeTs4UjLw5MM6OjgkjFeUxCYH) is a more detailed step-by-step tutorial for how to build a web app in flask (the first two are relevant for this lab)\n",
    "* to lookup how to create templates in your flask app, use this [flask templates CHEATSHEET](https://www.codecademy.com/learn/learn-flask/modules/flask-templates-and-forms/cheatsheet)\n",
    "* to get started with creating content for the individual pages of your app, use this interactive [HTML CHEATSHEET](https://htmlcheatsheet.com/)\n",
    "* for styling your pages, there is also a useful [CSS CHEATSHEET](https://htmlcheatsheet.com/css/) on the same website\n"
   ]
  },
  {
   "cell_type": "markdown",
   "metadata": {
    "collapsed": false,
    "jupyter": {
     "outputs_hidden": false
    },
    "pycharm": {
     "name": "#%% md\n"
    }
   },
   "source": [
    "# Create your first flask app <a class=\"anchor\" id=\"first\"></a>"
   ]
  },
  {
   "cell_type": "markdown",
   "metadata": {
    "collapsed": false,
    "jupyter": {
     "outputs_hidden": false
    },
    "pycharm": {
     "name": "#%% md\n"
    }
   },
   "source": [
    "## 1. Install Flask <a class=\"anchor\" id=\"install\"></a>"
   ]
  },
  {
   "cell_type": "markdown",
   "metadata": {
    "collapsed": false,
    "jupyter": {
     "outputs_hidden": false
    },
    "pycharm": {
     "name": "#%% md\n"
    }
   },
   "source": [
    "* create virtual environment for your flask app and install flask into it\n",
    "    * We'll call our our env `flask_app` (we'll keep this separate from the our `dsa` venv): \n",
    "        - `conda create -n flask_app python=3.11`\n",
    "        - `conda activate flask_app`\n",
    "        - `pip install flask`"
   ]
  },
  {
   "cell_type": "markdown",
   "metadata": {
    "collapsed": false,
    "jupyter": {
     "outputs_hidden": false
    },
    "pycharm": {
     "name": "#%% md\n"
    }
   },
   "source": [
    "## 2. Set-up your Flask app <a class=\"anchor\" id=\"setup\"></a>"
   ]
  },
  {
   "cell_type": "markdown",
   "metadata": {
    "collapsed": false,
    "jupyter": {
     "outputs_hidden": false
    },
    "pycharm": {
     "name": "#%% md\n"
    }
   },
   "source": [
    "* **create a new directory** for the web app project\n",
    "    - try practicing using `mkdir my_flask_app` on the command line\n",
    "    - this will create a directory with this name into the directory in which you are currently located\n",
    "* **open this folder as a new project** \n",
    "    - in VS Code \n",
    "    - or within any other IDE or code ed the code editor you're using\n",
    "* **create a new Python file called `flaskapp.py`** \n",
    "    - inside the project directory \n",
    "    - copy the following code into it \n",
    "\n",
    "    ```python\n",
    "    from flask import Flask # imports class\n",
    "\n",
    "    app = Flask(__name__) # instantiates class\n",
    "\n",
    "    @app.route(\"/\") # route decorator: tells Flask what URL should trigger our function\n",
    "    def home(): # defines the function\n",
    "        return \"Home Page\"\n",
    "    ```\n",
    "- save the file: *you can give the `.py` file any name, just don't call it `flask.py` -- this would cause a conflict with other functions in the package*"
   ]
  },
  {
   "cell_type": "markdown",
   "metadata": {
    "collapsed": false,
    "jupyter": {
     "outputs_hidden": false
    },
    "pycharm": {
     "name": "#%% md\n"
    }
   },
   "source": [
    "## 3. Run your Flask app <a class=\"anchor\" id=\"run\"></a>"
   ]
  },
  {
   "cell_type": "markdown",
   "metadata": {
    "collapsed": false,
    "jupyter": {
     "outputs_hidden": false
    },
    "pycharm": {
     "name": "#%% md\n"
    }
   },
   "source": [
    "* in the command line, navigate into the directory in which the `flaskapp.py` module lives\n",
    "* now you can run the flask app by `flask --app flaskapp run`\n",
    "    - `flask`: invokes the Flask command-line interface (CLI), which is the tool that allows you to interact with Flask applications from the terminal\n",
    "    - `--app flaskapp`: specifies the location of your Flask application. `flaskapp` is the name of the module or package where our Flask app is defined\n",
    "    - `run`: tells Flask to start the web server and run the application, making it accessible on a local address (typically http://127.0.0.1:5000/).\n",
    "* if there are no errors, the last line of what is now returned should read `Running on http://127.0.0.1:5000/`\n",
    "    - the numbers before the colon`:` are the IP address of your local machine ('loopback address')\n",
    "    - `5000` is the port number. This tells your machine which \"door\" or \"entry point\" to use for connecting to the app. By default, Flask runs on port 5000 unless specified otherwise. \n",
    "    - if the port is already being used by another programme, you might see an `OSError` error; in this case, specify a different port, e.g. `flask --app flaskapp run --port 5001`\n",
    "* once you see the `Running on ` message, copy the address and paste it into your browser\n",
    "    - when we visit http://127.0.0.1:5000/ in our browser, we’re essentially saying, “connect to my computer’s local address and open the application running on port 5000.\"\n",
    "* there is also an alias for your computer's IP address, called `localhost`\n",
    "    - we can replace the numbers before the colon (the `127.0.0.1` part) with this word and the browser will show the same result\n",
    "* if you're interested to see the source code of your app (i.e. the HTML code that Python and flask have generated), you can right-click on your app and open View Page Source"
   ]
  },
  {
   "cell_type": "markdown",
   "metadata": {
    "collapsed": false,
    "jp-MarkdownHeadingCollapsed": true,
    "jupyter": {
     "outputs_hidden": false
    },
    "pycharm": {
     "name": "#%% md\n"
    }
   },
   "source": [
    "## 4. Make some first changes to your app <a class=\"anchor\" id=\"changes\"></a>"
   ]
  },
  {
   "cell_type": "markdown",
   "metadata": {},
   "source": [
    "* **Let's add some HTML** to the code in `flaskapp.py`:\n",
    "    - by adding HTML heading tags to the text, we will make the text larger.\n",
    "    - This means replacing `\"Home Page\"` in the `home` function by `\"<h1>Home Page</h1>\"`\n",
    "* **NB: to see the changes in your app**, you need to:\n",
    "    1. Save the Python module file\n",
    "    2. stop the web server (by using `CTRL+C` in the command line) \n",
    "    3. re-run it (using `flask run` again) \n",
    "    - if we refresh the page, the font should now be bigger!\n",
    "* **Debug mode** to get around having to restart your app by running the application in debug mode\n",
    "    - stop the current app, \n",
    "    - either:\n",
    "        1) set another environment variable `export FLASK_DEBUG=1` (or `set` in Windows), then rerun the app,\n",
    "        2) or add `--debug` to your run command: `flask --app flaskapp run --debug`, \n",
    "        3) or (optional) instead of using the flask command-line tool (CLI) to start your Flask app (with `flask --app flaskapp run`), you can directly run your `flaskapp.py` script using Python. To do this, you need to modify your `flaskapp.py` file by adding some special lines at the bottom of the script.\n",
    "\n",
    "            ```python\n",
    "            if __name__ == '__main__': \n",
    "                app.run(debug=True)\n",
    "                \n",
    "            ```\n",
    "\n",
    "            Now rerun the app directly in Python by running the `flaskapp.py` file directly in the command line (`python flaskapp.py`).\n",
    "\n",
    "            This checks if the script is being run directly (rather than being imported as a module in another script), then runs it in Flask's debug mode.\n",
    "\n",
    "* (optional) for more advanced debugging options (e.g. what to do when you are debugging your app using IDE's built-in debugger), see [these](https://flask.palletsprojects.com/en/3.0.x/debugging/) instructions"
   ]
  },
  {
   "cell_type": "markdown",
   "metadata": {
    "collapsed": false,
    "jupyter": {
     "outputs_hidden": false
    },
    "pycharm": {
     "name": "#%% md\n"
    }
   },
   "source": [
    "## 5. Create new pages with routing <a class=\"anchor\" id=\"newpages\"></a>"
   ]
  },
  {
   "cell_type": "markdown",
   "metadata": {
    "collapsed": false,
    "jupyter": {
     "outputs_hidden": false
    },
    "pycharm": {
     "name": "#%% md\n"
    }
   },
   "source": [
    "* Let's create a second page for our app; we want the user to get directed to this app when typing `/hello` after the URL.\n",
    "    - to do this we need to define a route that listens for that specific URL path.\n",
    "    - `/hello` is the path that will trigger this page. This is what users will type in their browser after the base URL (e.g., `http://127.0.0.1:5000/hello`).\n",
    "* The `route()` decorator is used in Flask to bind a function to a specific URL path. \n",
    "    - When that URL is visited, the associated function will be executed and its return value will be displayed in the browser.\n",
    "    - copy and paste the following lines into your `flaskapp.py` file:\n",
    "  \n",
    "    ```python\n",
    "    @app.route(\"/hello\")\n",
    "    def hello():\n",
    "        return \"<h1>Hello, Berlin!</h1>\"\n",
    "    ```\n",
    "    - This decorator binds the function hello() to the `/hello` URL path. It tells Flask to run the `hello()` function whenever `/hello` is visited in the browser.\n",
    "    - `def hello()`: This defines the Python function `hello()` that will execute when the `/hello` URL is accessed.\n",
    "    - `return \"<h1>Hello, Berlin!</h1>\"`: This line returns an HTML string. Flask will send this HTML back to the browser as the response.\n",
    "\n",
    "* Lets see what happened: now add `/hello` at the end of the address in your browser and refresh\n",
    "* if you want to have multiple routes take you to the same page add them in sequence\n",
    "    - e.g. if you want `/home` to also take you to the home page, add `@app.route(\"/home\")` directly underneath `@app.route(\"/\")`"
   ]
  },
  {
   "cell_type": "markdown",
   "metadata": {
    "collapsed": false,
    "jupyter": {
     "outputs_hidden": false
    },
    "pycharm": {
     "name": "#%% md\n"
    }
   },
   "source": [
    "## 6. Pass variables to your webpage <a class=\"anchor\" id=\"variables\"></a>"
   ]
  },
  {
   "cell_type": "markdown",
   "metadata": {
    "collapsed": false,
    "jupyter": {
     "outputs_hidden": false
    },
    "pycharm": {
     "name": "#%% md\n"
    }
   },
   "source": [
    "* To make the 'hello' subpage dynamic and allow for the passing of variables through the URL, you can update the route in your Flask app to accept variables directly in the URL. This is done by modifying the `route()` decorator to use a special syntax that allows variables to be passed into the function. \n",
    "    - by default, the URL `/hello` is static and displays the same page every time it’s accessed. \n",
    "    - if make it dynamic, we can pass data through the URL itself.\n",
    "    - the `route()` decorator is used to define how URLs are mapped to functions in Flask. \n",
    "    - to make the URL dynamic, you can use angle brackets (`<variable_name>`) to define variable parts of the URL.\n",
    "\n",
    "* to do that, update your`flaskapp.py` script as below, and check that you can now pass city names (or any other strings) to your URL:\n",
    "    \n",
    "    ```python\n",
    "    @app.route(\"/hello/<city>\")\n",
    "    def hello(city):\n",
    "        return f\"<h1>Hello, {city}!</h1>\"\n",
    "    ```\n",
    "\n",
    "    - `@app.route(\"/hello/<city>\")`: The `route()` decorator is updated to accept a variable in the URL. The <city> inside the angle brackets is a placeholder for any string value that will be passed to the URL. When the URL is accessed, Flask will capture whatever value is entered in place of <city> and pass it as a parameter to the `hello()` function.\n",
    "\n",
    "    - `def hello(city)`: This defines the hello() function that accepts a city parameter. The value of city will come from the URL (e.g., http://127.0.0.1:5000/hello/Berlin will pass \"Berlin\" as the value of city).\n",
    "\n",
    "    - `return f\"<h1>Hello, {city}!</h1>\"`: This returns an HTML response that dynamically includes the value of the city variable. Flask will substitute the {city} placeholder with whatever value was passed in the URL.\n",
    "\n",
    "* Now try to add `/london` to the URL!"
   ]
  },
  {
   "cell_type": "markdown",
   "metadata": {
    "collapsed": false,
    "jupyter": {
     "outputs_hidden": false
    },
    "pycharm": {
     "name": "#%% md\n"
    }
   },
   "source": [
    "## 7. Add more content by using templates <a class=\"anchor\" id=\"templates\"></a>"
   ]
  },
  {
   "cell_type": "markdown",
   "metadata": {
    "collapsed": false,
    "jupyter": {
     "outputs_hidden": false
    },
    "pycharm": {
     "name": "#%% md\n"
    }
   },
   "source": [
    "* In Flask, it is a good practice to use templates to organize and display more complex content, rather than embedding HTML directly into the return statements in the Python function.\n",
    "* Templates allow you to separate the **presentation** (HTML) from the **application logic** (Python), which makes your code cleaner and easier to maintain.\n",
    "\n",
    "1. **Create the `templates` Directory**\n",
    "    * create a new folder called templates in the root directory of your project. \n",
    "    * Flask automatically looks for this folder to find your HTML templates.\n",
    "\n",
    "2. **Create a template (`home.html`)**\n",
    "    * inside, create a new file called `home.html`\n",
    "    * Dir structure:\n",
    "        ```\n",
    "        my_flask_app/\n",
    "            flaskapp.py\n",
    "            templates/\n",
    "                home.html\n",
    "        ```\n",
    "\n",
    "    * copy the following code into this file; this is a template for a very basic HTML page -- for an explanation of the different parts, see this [introduction](https://ryanstutorials.net/html-tutorial/html-template.php)\n",
    "\n",
    "        ```html\n",
    "        <!doctype html>\n",
    "        <html>\n",
    "        <head>\n",
    "            <title>Home</title>\n",
    "            <meta name=\"description\" content=\"My home page, on which I showcase my work!\">\n",
    "            <meta name=\"keywords\" content=\"personal home page\">\n",
    "        </head>\n",
    "        <body>\n",
    "            <h1>Home Page</h1>\n",
    "            This is where you will put the content of this page.\n",
    "        </body>\n",
    "        </html>\n",
    "        ```\n",
    "\n",
    "3. **Update `flaskapp.py` to render the template**\n",
    "\n",
    "    * to use this template in your app, you need to 'render' it by using the render function from Flask:\n",
    "        * **import render function**: by changing the very first line of your `flaskapp.py` file to `from flask import Flask, render_template`\n",
    "        * **use `render_template` in the return of the function**: update your `home` function to return `render_template('home.html')` instead of `\"<h1>Home Page</h1>\"`\n",
    "        * so:\n",
    "            ```python\n",
    "            @app.route(\"/home\")\n",
    "            def home():\n",
    "                return render_template('home.html')\n",
    "            ```\n",
    "        * Instead of returning HTML directly in the function, this will now return a rendered template by calling on `render_template()`"
   ]
  },
  {
   "cell_type": "markdown",
   "metadata": {},
   "source": [
    "## 8. Passing Variables from python module to the template"
   ]
  },
  {
   "cell_type": "markdown",
   "metadata": {},
   "source": [
    "* You can pass dynamic data to your templates by specifying variables in the `render_template` function. \n",
    "* To do this we will need to:\n",
    "    1) Update the function to specify the variables in the function call \n",
    "    2) Update the HTML code to display\n",
    "\n",
    "* For example, let’s pass a heading variable to the `home.html` template. \n",
    "    1) Update the function: \n",
    "        ```python\n",
    "        @app.route(\"/home\")\n",
    "        def home():\n",
    "            return render_template('home.html', heading='My personal home page')\n",
    "        ```\n",
    "    2) Update the template:<br>\n",
    "        In `home.html` - we need to display the heading variable inside the HTML. <br>\n",
    "        Instead of a static `<h1>Home Page</h1>`, replace it with:\n",
    "\n",
    "        ```html\n",
    "        <h1>{{ heading }}</h1>\n",
    "        ```\n",
    "\n",
    "### Conditional Rendering in Templates\n",
    "* Flask uses Jinja2 templating, which provides the ability to use logic in the templates, like if-else statements. You can add conditional rendering to change the heading based on whether a value is passed.\n",
    "\n",
    "* Now change your `home.html` template to make the displayed heading depending on what the input given to `render_template`:\n",
    "    ```HTML\n",
    "    <body>\n",
    "    {% if heading %}\n",
    "        <h1>{{ heading }}</h1>\n",
    "    {% else %}\n",
    "        <h1>Home Page</h1>\n",
    "    {% endif %}\n",
    "        This is where you will put the content of this page.\n",
    "    </body>\n",
    "    ```"
   ]
  },
  {
   "cell_type": "markdown",
   "metadata": {},
   "source": [
    "## 9. Some very basic HTML and CSS  <a class=\"anchor\" id=\"html\"></a>"
   ]
  },
  {
   "cell_type": "markdown",
   "metadata": {},
   "source": [
    "Now let us add some very basic styling to your home page by adapting your HTML code and adding some CSS\n",
    "\n",
    "1. wrap the text that you have placed within the `body` tag in a `div` tag and assign it a `class` called `'myDiv'`:\n",
    "    ```HTML\n",
    "    <body>\n",
    "    <div class=\"myDiv\">\n",
    "    {% if heading %}\n",
    "        <h1>{{ heading }}</h1>\n",
    "    {% else %}\n",
    "        <h1>Home Page</h1>\n",
    "    {% endif %}\n",
    "        This is where you will put the content of this page.\n",
    "    </div>\n",
    "    </body>\n",
    "    ```\n",
    "    \n",
    "2. add some CSS styling into a style tag within the head tag, so that your new head tag looks like this:\n",
    "    ```HTML\n",
    "    <head>\n",
    "        <title>Home</title>\n",
    "        <meta name=\"description\" content=\"My home page, on which I showcase my work!\">\n",
    "        <meta name=\"keywords\" content=\"personal home page\">\n",
    "        <style>\n",
    "            .myDiv {\n",
    "            border: solid darkblue 5px;\n",
    "            padding-bottom: 20px;\n",
    "            background-color: lightblue;\n",
    "            text-align: center;\n",
    "            font-family: Sans-serif;\n",
    "            }\n",
    "        </style>\n",
    "    </head>\n",
    "    ```\n",
    "\n",
    "Refresh your page and see how it has changed!"
   ]
  },
  {
   "cell_type": "markdown",
   "metadata": {
    "collapsed": false,
    "jupyter": {
     "outputs_hidden": false
    },
    "pycharm": {
     "name": "#%% md\n"
    }
   },
   "source": [
    "## Exercises <a class=\"anchor\" id=\"exercises\"></a>"
   ]
  },
  {
   "cell_type": "markdown",
   "metadata": {
    "collapsed": false,
    "jp-MarkdownHeadingCollapsed": true,
    "jupyter": {
     "outputs_hidden": false
    }
   },
   "source": [
    "### Exercise 1\n",
    "\n",
    "Go through the steps above to create your first flask app."
   ]
  },
  {
   "cell_type": "markdown",
   "metadata": {
    "collapsed": false,
    "jupyter": {
     "outputs_hidden": false
    },
    "pycharm": {
     "name": "#%% md\n"
    }
   },
   "source": [
    "### Exercise 2\n",
    "\n",
    "Try going to `http://localhost:5000/hello` in your browser after having completed step 6. How could you need to update the `hello` function so that it does not raise a page not found error?"
   ]
  },
  {
   "cell_type": "markdown",
   "metadata": {},
   "source": [
    "### Solution 2"
   ]
  },
  {
   "cell_type": "markdown",
   "metadata": {
    "collapsed": false,
    "jupyter": {
     "outputs_hidden": false
    },
    "pycharm": {
     "name": "#%% md\n"
    }
   },
   "source": [
    "The easiest (but not very scalable) way to do this is within your `.py` file:\n",
    "\n",
    "```python\n",
    "@app.route(\"/hello\")\n",
    "@app.route(\"/hello/<city>\")\n",
    "def hello(city=None):\n",
    "    if city is None:\n",
    "        return \"<h1>Hello, there!</h1>\"\n",
    "    else:\n",
    "        return f\"<h1>Hello, {city}!</h1>\"\n",
    "```\n",
    "\n",
    "**Alternatively** (and this would be the more elegant and scalable way to do this) is to deal with the case of the city variable not being specified (aka being `None`) in a template. In this case, your `hello` function would look like this:\n",
    "\n",
    "```python\n",
    "@app.route(\"/hello\")\n",
    "@app.route(\"/hello/<city>\")\n",
    "def hello(city=None):\n",
    "    return render_template('hello.html', city=city)\n",
    "```\n",
    "\n",
    "You then also need to create a `hello.html` template within the `templates` folder, into which you write:\n",
    "\n",
    "```html\n",
    "<!doctype html>\n",
    "<html>\n",
    "<head>\n",
    "    <title>Hello</title>\n",
    "    <meta name=\"description\" content=\"The page where you say hello.\">\n",
    "    <meta name=\"keywords\" content=\"some keywords\">\n",
    "</head>\n",
    "<body>\n",
    "{% if city %}\n",
    "    <h1>Hello, {{ city }}!</h1>\n",
    "{% else %}\n",
    "    <h1>Hello, there!</h1>\n",
    "{% endif %}\n",
    "</body>\n",
    "</html>\n",
    "```"
   ]
  },
  {
   "cell_type": "markdown",
   "metadata": {
    "collapsed": false,
    "jupyter": {
     "outputs_hidden": false
    }
   },
   "source": [
    "### Exercise 3\n",
    "\n",
    "Add an 'about' page to your app, which shows the text 'About Page' in an h1 tag, by adding a suitable function to the `flaskapp.py` script (firstly, without using templates)."
   ]
  },
  {
   "cell_type": "markdown",
   "metadata": {},
   "source": [
    "### Solution 3"
   ]
  },
  {
   "cell_type": "markdown",
   "metadata": {
    "collapsed": false,
    "jupyter": {
     "outputs_hidden": false
    },
    "pycharm": {
     "name": "#%% md\n"
    }
   },
   "source": [
    "```python\n",
    "@app.route(\"/about\")\n",
    "def about():\n",
    "    return \"<h1>About Page</h1>\"\n",
    "```"
   ]
  },
  {
   "cell_type": "markdown",
   "metadata": {
    "collapsed": false,
    "jupyter": {
     "outputs_hidden": false
    },
    "pycharm": {
     "name": "#%% md\n"
    }
   },
   "source": [
    "### Exercise 4\n",
    "\n",
    "Create a new template specifically for this new 'about' page by copying and pasting the HTML code from step 7 above and changing the parts that refer to it being the 'home' page, then update `flaskapp.py` accordingly."
   ]
  },
  {
   "cell_type": "markdown",
   "metadata": {},
   "source": [
    "### Solution 4"
   ]
  },
  {
   "cell_type": "markdown",
   "metadata": {
    "collapsed": false,
    "jupyter": {
     "outputs_hidden": false
    },
    "pycharm": {
     "name": "#%% md\n"
    }
   },
   "source": [
    "You should have created an `about.html` inside `templates` that looks something like this:\n",
    "\n",
    "```html\n",
    "<!doctype html>\n",
    "<html>\n",
    "<head>\n",
    "    <title>About</title>\n",
    "    <meta name=\"description\" content=\"My about page, where I introduce myself!\">\n",
    "    <meta name=\"keywords\" content=\"about page\">\n",
    "</head>\n",
    "<body>\n",
    "    <h1>About Page</h1>\n",
    "    This is where you will put the content of this page.\n",
    "</body>\n",
    "</html>\n",
    "```\n",
    "\n",
    "and you should have updated the `about` function on `flaskapp.py` to look like this:\n",
    "\n",
    "```python\n",
    "@app.route(\"/about\")\n",
    "def about():\n",
    "    return render_template('about.html')\n",
    "```"
   ]
  },
  {
   "cell_type": "markdown",
   "metadata": {
    "jp-MarkdownHeadingCollapsed": true
   },
   "source": [
    "### Exercise 5\n",
    "\n",
    "Create a navigation bar for your app, so that users can navigate between different pages of your app. \n",
    "\n",
    "Do this by creating a 'layout.html' file, from which the other templates in our app will 'inherit' (aka we want it to be used on all of our pages).\n",
    "\n",
    "Hint: Start with the very generic HTML template for your 'layout.html' file, then think about the components that you need in here:\n",
    "\n",
    "* you need clickable text (aka hyperlinks), that will take the user to the page they want to go to. To do this, look up how to do hyperlinks in Flask (it entails a function called `url_for`).\n",
    "* you might need a div tag around your content so that you can, at some point, style your navigation bar.\n",
    "* have a look at the concept of [Template Inheritance](https://flask.palletsprojects.com/en/2.3.x/patterns/templateinheritance/), to see if you can work out how to connect your layout template with the other templates in your app\n",
    "* once you have tried this yourself, look at this [example](https://pythonhow.com/python-tutorial/flask/Adding-a-navigation-menu-to-the-website/) and implement it for your app"
   ]
  },
  {
   "cell_type": "markdown",
   "metadata": {},
   "source": [
    "### Solution 5"
   ]
  },
  {
   "cell_type": "markdown",
   "metadata": {},
   "source": [
    "The code in your `layout.html` file might look something like this\n",
    "\n",
    "```HTML\n",
    "<!DOCTYPE html>\n",
    "<html>\n",
    "  <body>\n",
    "    <header>\n",
    "      <div id=\"container\">\n",
    "        <h1 class=\"logo\">My web app</h1>\n",
    "        <strong><nav>\n",
    "          <ul class=\"menu\">\n",
    "            <li><a href=\"{{ url_for('home') }}\">Home</a></li>\n",
    "            <li><a href=\"{{ url_for('about') }}\">About</a></li>\n",
    "          </ul>\n",
    "        </nav></strong>\n",
    "      </div>\n",
    "    </header>\n",
    "      <div class=\"container\">\n",
    "      {% block content %}\n",
    "      {% endblock %}\n",
    "    </div>\n",
    "  </body>\n",
    "</html>\n",
    "```\n",
    "\n",
    "and the code in your `about.html` file might look something like this:\n",
    "```HTML\n",
    "<!doctype html>\n",
    "<html>\n",
    "<head>\n",
    "    <title>About</title>\n",
    "    <meta name=\"description\" content=\"My home page, where I'll introduce myself!\">\n",
    "    <meta name=\"keywords\" content=\"personal home page\">\n",
    "</head>\n",
    "<body>\n",
    "\n",
    "{% extends \"layout.html\" %}\n",
    "{% block content %}\n",
    "    <h1>About Page</h1>\n",
    "    <p>This is where I'll write something about myself.</p>\n",
    "{% endblock %}\n",
    "\n",
    "</body>\n",
    "</html>\n",
    "```"
   ]
  }
 ],
 "metadata": {
  "kernelspec": {
   "display_name": "Python 3 (ipykernel)",
   "language": "python",
   "name": "python3"
  },
  "language_info": {
   "codemirror_mode": {
    "name": "ipython",
    "version": 3
   },
   "file_extension": ".py",
   "mimetype": "text/x-python",
   "name": "python",
   "nbconvert_exporter": "python",
   "pygments_lexer": "ipython3",
   "version": "3.11.7"
  }
 },
 "nbformat": 4,
 "nbformat_minor": 4
}

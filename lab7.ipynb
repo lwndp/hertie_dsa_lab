{
 "cells": [
  {
   "cell_type": "markdown",
   "metadata": {
    "collapsed": true,
    "jupyter": {
     "outputs_hidden": true
    },
    "pycharm": {
     "name": "#%% md\n"
    }
   },
   "source": [
    "# Lab 7\n",
    "## Data Structures & Algorithms\n",
    "26th & 27th March"
   ]
  },
  {
   "cell_type": "markdown",
   "metadata": {
    "collapsed": false,
    "jupyter": {
     "outputs_hidden": false
    },
    "pycharm": {
     "name": "#%% md\n"
    }
   },
   "source": [
    "## Today\n",
    "\n",
    "* [Some more Big O stuff](#bigo)\n",
    "* [Introducing Plotly (for plotting in Flask)](#plotly)\n",
    "* [A toy example: a dashboard to track page loads](#dashboard)\n",
    "* [Exercises](#exercises)"
   ]
  },
  {
   "cell_type": "markdown",
   "metadata": {
    "collapsed": false,
    "jupyter": {
     "outputs_hidden": false
    },
    "pycharm": {
     "name": "#%% md\n"
    }
   },
   "source": [
    "# Some more Big O examples <a class=\"anchor\" id=\"bigo\"></a>"
   ]
  },
  {
   "cell_type": "markdown",
   "metadata": {},
   "source": [
    "We are interested in analysing an algorithm that returns the largest sum of any contiguous subarray of an input array. Let's go through this step by step first and then look at the algorithm's time complexity.\n"
   ]
  },
  {
   "cell_type": "markdown",
   "metadata": {},
   "source": [
    "## Slightly optimised algo:"
   ]
  },
  {
   "cell_type": "code",
   "execution_count": null,
   "metadata": {},
   "outputs": [],
   "source": [
    "def largest_sum_contiguous_subarray(array):\n",
    "    max_sum = 0\n",
    "    # loop through start points of the array\n",
    "    for i in range(len(array)):\n",
    "        sum_subarray = 0\n",
    "        # loop through end points of the array\n",
    "        for j in range(i, len(array)):\n",
    "            # keep track of the subarray that ends with j (so that at j+1, we don't have to calculate it again)\n",
    "            sum_subarray += array[j]\n",
    "            if max_sum < sum_subarray:\n",
    "                max_sum = sum_subarray\n",
    "    return max_sum"
   ]
  },
  {
   "cell_type": "code",
   "execution_count": null,
   "metadata": {},
   "outputs": [],
   "source": [
    "array_0 = [ ]\n",
    "array_1 = [2]\n",
    "array_2 = [-2, 3]\n",
    "array_3 = [-2, 3, -2, 4, -1, -2]\n",
    "\n",
    "print(largest_sum_contiguous_subarray(array_0))\n",
    "print(largest_sum_contiguous_subarray(array_1))\n",
    "print(largest_sum_contiguous_subarray(array_2))\n",
    "print(largest_sum_contiguous_subarray(array_3))"
   ]
  },
  {
   "cell_type": "markdown",
   "metadata": {},
   "source": [
    "### Complexity\n",
    "\n",
    "To analyse the the time complexity of the algorithm, we break it down into its loops:\n",
    "\n",
    "* **Outer loop**: iterates through each element of the array of size `n` \n",
    "    - it runs `n` times\n",
    "* **Inner loop**: iterates through elements of array starting from current index `i` all the way to the end\n",
    "    - in the worst case, this is `n` operations \n",
    "    - NB: *within* the inner-most loop: constant time operations ($O(1)$ - does not depend on size of array), so this can be ignored \n",
    "\n",
    "\n",
    "We could stop here and say that it's $O(n^2)$ because of this worst-case scenario.\n",
    "\n",
    "Or, in more detail: \n",
    "- for `i=0` the inner loop runs `n` times, \n",
    "- for `i=1` the inner loop runs `n-1` times, \n",
    "- and so on\n",
    "\n",
    "$$n + (n-1) + (n-2) + ... +1$$\n",
    "This simplifies to:\n",
    "$$\\frac{n(n+1)}{2}$$\n",
    "\n",
    "So, in total, we have $\\frac{n(n+1)}{2}$ operations.\n",
    "\n",
    "Still, time complexity in Big O notation is $O(n^2)$ (focusing on highest order term, as lower-order terms like (like `-1`) / constants (like $\\frac{1}{2}$) become insignificant as $n$ grows very large.)"
   ]
  },
  {
   "cell_type": "markdown",
   "metadata": {},
   "source": [
    "### In context:\n",
    "There is a more efficient way of doing this (see below). However, this is already more efficient than the brute-force algorithm (a.k.a going through every single option and checking it). \n",
    "- This is because after calculating the sum of subarray say, from $i$ to $k$, we do not have to do this again for the subarray from $i$ to $k+1$. \n",
    "- Instead, we are 'saving on operations' by storing the sum of the subarray from $i$ to $k$, setting it as the new `max_sum` if it is, and then adding the next element to the current sum. "
   ]
  },
  {
   "cell_type": "markdown",
   "metadata": {},
   "source": [
    "## Alternative 1: higher time complexity (brute-force)\n",
    "\n",
    "Here, we loop over all possible contiguous sub-arrays and calculate the sum."
   ]
  },
  {
   "cell_type": "code",
   "execution_count": null,
   "metadata": {},
   "outputs": [],
   "source": [
    "def largest_sum_contiguous_subarray_bruteforce(array):\n",
    "    # initialise value for largest sum\n",
    "    max_sum = 0\n",
    "    \n",
    "    # loop through start points of the array\n",
    "    for i in range(len(array)):\n",
    "        # loop through end points of the array\n",
    "        for j in range(i, len(array)):\n",
    "            # loop through the entire subarray (starting with i and ending with j)\n",
    "            sum_subarray = 0\n",
    "            for k in range(i, j + 1):\n",
    "                sum_subarray += array[k]\n",
    "            \n",
    "            if max_sum < sum_subarray:\n",
    "                # update max_sum if the sum of the current subarray is greater than the stored global sum\n",
    "                max_sum = sum_subarray\n",
    "            \n",
    "    return max_sum"
   ]
  },
  {
   "cell_type": "code",
   "execution_count": 10,
   "metadata": {},
   "outputs": [
    {
     "name": "stdout",
     "output_type": "stream",
     "text": [
      "2\n",
      "3\n",
      "5\n"
     ]
    }
   ],
   "source": [
    "array_1 = [2]\n",
    "array_2 = [-2, 3]\n",
    "array_3 = [-2, 3, -2, 4, -1, -2]\n",
    "\n",
    "print(largest_sum_contiguous_subarray_bruteforce(array_1))\n",
    "print(largest_sum_contiguous_subarray_bruteforce(array_2))\n",
    "print(largest_sum_contiguous_subarray_bruteforce(array_3))"
   ]
  },
  {
   "cell_type": "markdown",
   "metadata": {},
   "source": [
    "### Complexity\n",
    "\n",
    "To analyse the the time complexity of the algorithm, we again break it down into its loops: (there are 3 loops; outer, middle, inner)\n",
    "\n",
    "* **First two loops**: same as before, giving us $\\frac{n(n+1)}{2}$ operations.\n",
    "* **Inner most loop**: in the worst case (when `i=0` and `j=n-1`), this runs for `n` iterations .\n",
    "    * NB: within the inner-most loop: constant time operations ($O(1)$ - does not depend on size of array)\n",
    "\n",
    "\n",
    "So this is worse: $O(n^3)$!"
   ]
  },
  {
   "cell_type": "markdown",
   "metadata": {},
   "source": [
    "## Alternative 2: lower time complexity\n",
    "\n",
    "Now we improve the algorithm to have an algorithm that has time complexity $O(n)$ instead of $O(n^2)$.\n",
    "\n",
    "The idea: At each position $i$, *what's the best sum we can get for a subarray that ends exactly at $i$?*\n",
    "\n",
    "To do this: we create a helper array, `sum_arr`, where: \n",
    "\n",
    "<div align=\"center\">\n",
    "sum_arr[i] = the best sum of a subarray that ends at index `i`\n",
    "</div>\n",
    "\n",
    "Take array = [3, -2, 5, -1]:\n",
    "1. index 0: → Only one choice: the subarray $[3]$. \n",
    "2. index 1: $[-1]$ → is it better to extend the previous subarray (which ended at 3) or start fresh with just -2?\n",
    "    - Extending gives: `sum_arr[0] + array[1] = 3 + (-2) = 1`\n",
    "    - Starting fresh: $-2$\n",
    "    - Best choice: extend, so `sum_arr[1] = 1`\n",
    "3. index 2: $[5]$ → again:\n",
    "    - Extend: `sum_arr[1] + 5 = 1 + 5 = 6`\n",
    "    - Start fresh: just 5\n",
    "    - Best choice: extend, so `sum_arr[2] = 6`\n",
    "etc\n",
    "\n",
    "The importanat decision rule here is if the sum of the `i-1`th element is positive of not!"
   ]
  },
  {
   "cell_type": "code",
   "execution_count": null,
   "metadata": {},
   "outputs": [],
   "source": [
    "def largest_sum_contiguous_subarray_efficient(array):\n",
    "    # initialise array where at each i we store the sum of the subarray ending at i\n",
    "    sum_arr = [0] * len(array) \n",
    "\n",
    "    # the first element of sum_arr is just the first element of the array\n",
    "    sum_arr[0] = array[0]\n",
    "\n",
    "    # loop through end points\n",
    "    for i in range(1, len(array)):\n",
    "        # if the sum of the subarray ending at the previous element is greater than 0, we extend the subarray to include the current element\n",
    "        if sum_arr[i - 1] > 0: # extend\n",
    "            sum_arr[i] = sum_arr[i - 1] + array[i]\n",
    "        # otherwise, the sum at end point i is just equal to the ith element of the array\n",
    "        else:\n",
    "            sum_arr[i] = array[i] # start afresh\n",
    "      \n",
    "    return max(sum_arr)"
   ]
  },
  {
   "cell_type": "markdown",
   "metadata": {},
   "source": [
    "The max() part just takes the largest value - this is done in constant time, so we only have to go through the array once! $O(n)$"
   ]
  },
  {
   "cell_type": "code",
   "execution_count": 11,
   "metadata": {},
   "outputs": [
    {
     "name": "stdout",
     "output_type": "stream",
     "text": [
      "2\n",
      "3\n",
      "5\n"
     ]
    }
   ],
   "source": [
    "array_1 = [2]\n",
    "array_2 = [-2, 3]\n",
    "array_3 = [-2, 3, -2, 4, -1, -2]\n",
    "\n",
    "print(largest_sum_contiguous_subarray_efficient(array_1))\n",
    "print(largest_sum_contiguous_subarray_efficient(array_2))\n",
    "print(largest_sum_contiguous_subarray_efficient(array_3))"
   ]
  },
  {
   "cell_type": "markdown",
   "metadata": {},
   "source": [
    "### Complexity\n",
    "\n",
    "**Time complexity**: Since we only have one loop that iterates through the length of the array and we have constant time operations (comparison, addition, assignment), we now have time complexity $O(n)$.\n",
    "\n",
    "**Space complexity**: Why has space complexity increased from $O(1)$ to $O(n)$? Can we do better?"
   ]
  },
  {
   "cell_type": "markdown",
   "metadata": {},
   "source": [
    "## Alternative 3: lower time & space complexity\n",
    "\n",
    "Now we improve the algorithm even more, by also lowering the space complexity. "
   ]
  },
  {
   "cell_type": "code",
   "execution_count": null,
   "metadata": {},
   "outputs": [],
   "source": [
    "def largest_sum_contiguous_subarray_more_efficient(array):\n",
    "    # initialise two max values; global_max always stores the current largest sum, local_max stores the sum of the current subarray\n",
    "    global_max, local_max = array[0], array[0]\n",
    "\n",
    "    # loop through the end points\n",
    "    for i in range(1, len(array)):\n",
    "        # if the current local_max is greater than 0, we add the ith element of the array, so we extend the subarray by element i\n",
    "        if local_max > 0:\n",
    "            local_max += array[i]\n",
    "        # else, we start with a new subarray at element i\n",
    "        else:\n",
    "            local_max = array[i]\n",
    "        # whenever the sum of the current subarray is greater than the one that was previously stored, update the global max value\n",
    "        if global_max < local_max:\n",
    "            global_max = local_max\n",
    "            \n",
    "    return global_max"
   ]
  },
  {
   "cell_type": "code",
   "execution_count": null,
   "metadata": {},
   "outputs": [],
   "source": [
    "array_1 = [2]\n",
    "array_2 = [-2, 3]\n",
    "array_3 = [-2, 3, -2, 4, -1, -2]\n",
    "\n",
    "print(largest_sum_contiguous_subarray_more_efficient(array_1))\n",
    "print(largest_sum_contiguous_subarray_more_efficient(array_2))\n",
    "print(largest_sum_contiguous_subarray_more_efficient(array_3))"
   ]
  },
  {
   "cell_type": "markdown",
   "metadata": {},
   "source": [
    "### Complexity\n",
    "\n",
    "**Time complexity**: Here we are only looping through the input array of length `n` once. As we do so we have constant time operations (comparison, addition, assignment), so the time complexity remains $O(n)$.\n",
    "\n",
    "**Space complexity**: The space that is used as we are looping through the input array now does not depend on it's size anymore, so it is constant ($O(1)$)."
   ]
  },
  {
   "cell_type": "markdown",
   "metadata": {},
   "source": [
    "# Introducing `Plotly` (for visualisation with Flask apps)  <a class=\"anchor\" id=\"plotly\"></a>\n",
    "\n",
    "Plotly is an interactive plotting library - you can include things like buttons, sliders, dropdowns. It can be easily integrated with flask. Let's first create a simple bar chart as an example (example taken from [here](https://towardsdatascience.com/web-visualization-with-plotly-and-flask-3660abf9c946)). You can either add this dashboard page to your own personal flask app (for which you have created your about page) or you can clone [this](https://github.com/henrycgbaker/my_flask_app_25) repo.\n",
    "\n",
    "### Preparatory setup\n",
    "\n",
    "First you need to get the correct **python modules and packages** in place:\n",
    "- Clone the repo\n",
    "- Add a `config.py` file (inside the `instance` folder, that you need to create inside the project root directory). \n",
    "    - The `config.py` file only needs to contain one line of code with a secret key (`SECRET_KEY='some password'`). \n",
    "- Make sure we have the correct packages installed in our flask environment:\n",
    "    - `flask-wtf`\n",
    "    - `plotly`\n",
    "    - `pandas`\n",
    "\n",
    "Next, you need to **initialise the database** in a python shell:\n",
    "- in the command line run `python` while in the `my_flask_app` project root directory and with your flask environment activated\n",
    "- next, run the following (I recommend running it line by line to get a sense of what we're doing here):\n",
    "\n",
    "```python\n",
    "from flaskapp import db\n",
    "from flaskapp.models import User\n",
    "db.create_all()\n",
    "user = User(name='Default user')\n",
    "db.session.add(user)\n",
    "db.session.commit()\n",
    "```\n",
    "\n",
    "**Explanation of code above**\n",
    "- line 1: imports `db`: this is an instance of SQLAlchemy from our `flaskapp/__init__.py` module. This instance gives us access to database-related functionality, including table creation and querying.\n",
    "- line 2: imports the `User` model from `flaskapp/models.py`.\n",
    "- line 3: tells SQLAlchemy to create all missing tables based on the models defined in `models.py`.\n",
    "    - If the tables already exist, this does nothing (it does not override existing tables).\n",
    "    - If this is the first time running it, it sets up an empty database with tables corresponding to all models.\n",
    "- line 4: creates a new `User` object in Python, *NB: it is not yet saved to the database*.\n",
    "    - The `User` constructor assigns \"Default user\" to the name column.\n",
    "    - At this stage, user is just an object in memory.\n",
    "- line 5: tells SQLAlchemy that we want to add `user` to the database session. *NB: However, the change is not yet saved permanently*.\n",
    "- line 6: permanently saves the new `user` to the database.\n",
    "    - All pending changes in the session (such as adding new users or modifying existing records) are committed to the database.\n",
    "    - After this, the `user` object is now officially stored in the database.\n",
    "\n",
    "Now you are ready to start working with `plotly`!\n",
    "\n",
    "## Steps: changes to you flask app to incorporate `plotly`\n",
    "\n",
    "### 1. Import packages\n",
    "\n",
    "At the top of your `routes.py` file, import the necessary packages as follow:\n",
    "\n",
    "```python\n",
    "import pandas as pd\n",
    "import json\n",
    "import plotly\n",
    "import plotly.express as px\n",
    "```\n",
    "### 2. Routing (`@app.route('/dashboard')`)\n",
    "\n",
    "- We will create a new route to your `routes.py` file, that will display the dashboard html, when the user goes to `/dashboard`. \n",
    "    - *(This is where we will display the dynamic plotly graphs later, which will update for user page loads)*. \n",
    "- Within the `dashboard()` method, we will create the dataframe and create a plot with [plotly express](https://plotly.com/python/plotly-express/) (plotly module for the most common figures, e.g. bar charts) that is assigned to the variable `fig`. \n",
    "    - *NB: To include plotly figures in flask, we need to convert the plot to something called JSON format format using the `json.dumps()` and the JSON encoder that comes with Plotly.* \n",
    "    - *We do this so that the flask app can use the plotly javascript library to render the plot properly.*\n",
    "\n",
    "```python\n",
    "@app.route('/dashboard')\n",
    "def dashboard():\n",
    "    df = pd.DataFrame({\n",
    "        'Fruit': ['Apples', 'Oranges', 'Bananas', 'Apples', 'Oranges',\n",
    "                'Bananas'],\n",
    "        'Amount': [4, 1, 2, 2, 4, 5],\n",
    "        'City': ['Berlin', 'Berlin', 'Berlin', 'Munich', 'Munich', 'Munich']\n",
    "    })\n",
    "    fig = px.bar(df, x='Fruit', y='Amount', color='City',\n",
    "                barmode='group')\n",
    "    graphJSON = json.dumps(fig, cls=plotly.utils.PlotlyJSONEncoder)\n",
    "    return render_template('dashboard.html', title='My plot', graphJSON=graphJSON)\n",
    "```\n",
    "**Explanation of code above**\n",
    "- create a pandas dataframe object: `df`\n",
    "- convert it into a plotly object: `fig`\n",
    "- convert it into a JSON format: `graphJSON`\n",
    "- pass it to an HTML template...(so we're going to need an associated HTML template!)\n",
    "\n",
    "### 3. Associated HTML template\n",
    "\n",
    "Finally, we will create a new html template in our templates folder, called `dashboard.html` and add the following content. \n",
    "\n",
    "```html\n",
    "{% extends \"layout.html\" %}\n",
    "{% block content %}\n",
    "<h1>{{ title }}</h1>\n",
    "<div id='chart' class='chart'></div>\n",
    "<script src='https://cdn.plot.ly/plotly-latest.min.js'></script>\n",
    "<script type='text/javascript'>\n",
    "    var graphs = {{graphJSON | safe}};\n",
    "    Plotly.plot('chart',graphs,{});\n",
    "</script>\n",
    "{% endblock %}\n",
    "```\n",
    "- First, our template inherits from our base template `layout.html`.\n",
    "- Then, we include our bar chart by specificing a `div` tag:\n",
    "    - `<div>` is a placeholder where the Plotly chart will be rendered.\n",
    "    - `id='chart'`references this element in JavaScript.\n",
    "    - `class='chart'` allows for additional styling using CSS if needed.\n",
    "- Finally, the below `script` tags include some Javascript into our code: \n",
    "    - *NB: you are not expected to know JavaScript, but I've included the following by way of explanation for thos interested*\n",
    "    - The first script tag: loads the Plotly JavaScript library from a CDN.\n",
    "    - The second script tag: \n",
    "        - The `graphJSON` variable from our routing module (which contains JSON code from our bar chart) is injected into the template and saved as a variable called `graphs`. This contains the actual JSON data we need for the Plotly chart.\n",
    "        - *NB: The `| safe` filter just ensures the JSON data is rendered as raw JavaScript, preventing escaping issues.*\n",
    "        - We then call the plotting method from the plotly library to display the chart. `Plotly.plot('chart', graphs, {})`; initializes the chart by:\n",
    "            1. Selecting the `<div>` with `id=\"chart\"`.\n",
    "            2. Using `graphs` as the data source.\n",
    "            3. Passing an empty object `{}` for layout settings"
   ]
  },
  {
   "cell_type": "markdown",
   "metadata": {},
   "source": [
    "# Toy case: Creating a dashboard to track page loads <a class=\"anchor\" id=\"dashboard\"></a>\n",
    "\n",
    "We now create a dashboard for tracking the data for page loads (code adapted from [here](https://python.plainenglish.io/track-website-usage-with-postgresql-and-flask-53f583249911)).\n",
    "\n",
    "### 1. Define DB Models\n",
    "\n",
    "First, we create two new database models (a.k.a tables). \n",
    "1. One will have the total number of page views per day \n",
    "2. The other will save the users' IP addresses and the dates on which they visited. \n",
    "\n",
    "In your `models.py` file, add:\n",
    "\n",
    "```python\n",
    "class Day(db.Model):\n",
    "    id = db.Column(db.Date, primary_key=True)\n",
    "    views = db.Column(db.Integer)\n",
    "\n",
    "    def __repr__(self):\n",
    "        return f\"Day('{self.id}', '{self.views}')\"\n",
    "\n",
    "\n",
    "class IpView(db.Model):\n",
    "    ip = db.Column(db.String(20), primary_key=True)\n",
    "    date_id = db.Column(db.Date, db.ForeignKey('day.id'), primary_key=True)\n",
    "\n",
    "    def __repr__(self):\n",
    "        return f\"IpView('{self.ip}', '{self.date_id}')\"\n",
    "```\n",
    "\n",
    "### 2. Initialise DBs\n",
    "\n",
    "Now, we create our database structure. To do this:\n",
    "- open a Python shell from our command line (while in the correct directory): `python`\n",
    "- run the below code\n",
    "\n",
    "```python\n",
    "from flaskapp import db\n",
    "from flaskapp.models import User\n",
    "db.create_all()\n",
    "user = User(name='Default user')\n",
    "db.session.add(user)\n",
    "db.session.commit()\n",
    "```\n",
    "\n",
    "### 3. Routing (`@app.before_request`)\n",
    "\n",
    "Now, we need to create a path in our `routes.py` file that saves data to these tables, the moment a user loads a page. \n",
    "- This uses the decorator `@app.before_request`, which tells Flask to run this function automatically before handling any request to any route.\n",
    "- Flask has a request lifecycle—a series of hooks it goes through when processing a request.\n",
    "    1. Receive a request (e.g. user opens page)\n",
    "    2. Run all `before_request` functions\n",
    "    3. Match and run the appropriate route (e.g., `@app.route('/dashboard_2'`)\n",
    "    4. Send response to browser\n",
    "    5. Run any `after_request` functions\n",
    "\n",
    "*NB: at the top, you need to import some more methods as follows:*\n",
    "\n",
    "```python\n",
    "from flask import render_template, flash, redirect, url_for, request\n",
    "from flaskapp import app, db\n",
    "from flaskapp.models import BlogPost, IpView, Day\n",
    "from flaskapp.forms import PostForm\n",
    "import datetime\n",
    "```\n",
    "Now, we add the following routing in:\n",
    "\n",
    "```python\n",
    "@app.before_request\n",
    "def before_request_func():\n",
    "    day_id = datetime.date.today()   # get our day_id, which is the date string in the format \"yyyy-mm-dd\"\n",
    "    client_ip = request.remote_addr  # get the ip address of where the client request came from\n",
    "\n",
    "    query = Day.query.filter_by(id=day_id)  # try to get the row associated to the current day\n",
    "    if query.count() > 0:\n",
    "        # the current day is already in table, simply increment its views\n",
    "        current_day = query.first()\n",
    "        current_day.views += 1\n",
    "    else:\n",
    "        # the current day does not exist, it's the first view for the day.\n",
    "        current_day = Day(id=day_id, views=1)\n",
    "        db.session.add(current_day)  # insert a new day into the day table\n",
    "\n",
    "    query = IpView.query.filter_by(ip=client_ip, date_id=day_id)\n",
    "    if query.count() == 0:  # check if it's the first time a viewer from this ip address is viewing the website\n",
    "        ip_view = IpView(ip=client_ip, date_id=day_id)\n",
    "        db.session.add(ip_view)  # insert into the ip_view table\n",
    "\n",
    "    db.session.commit()  # commit all the changes to the database\n",
    "```\n",
    "\n",
    "### 4. Routing (`@app.route('/dashboard')`)\n",
    "\n",
    "We also *temporarily* update our dashboard route, to display the data that is currently in the `day` table. \n",
    "\n",
    "Remember that you can (/should) also add the dashboard to your navigation bar by updating the `layout.html` file: `<li><a href=\"{{ url_for('dashboard_2') }}\">Second Dashboard</a></li>`\n",
    "\n",
    "```python\n",
    "# Route to the dashboard page\n",
    "@app.route('/dashboard_2')\n",
    "def dashboard_2():\n",
    "    days = Day.query.all()\n",
    "    return [{'Date': day.id, 'Page views': day.views} for day in days]\n",
    "```\n",
    "If you run your app now, you will be presented with an (ugly) print out of the raw data (date and page views).\n",
    "\n",
    "### 5. Synthetic data\n",
    "\n",
    "Let's add some fake page views to our database by opening your python shell and manually adding some data to the database.\n",
    "\n",
    "First we need to make sure we have cleared any existing records (in case there's anything already existing). In the terminal:\n",
    "\n",
    "```python\n",
    "from flaskapp import app, db\n",
    "from flaskapp.models import IpView, Day  \n",
    "\n",
    "db.session.query(IpView).delete()\n",
    "db.session.query(Day).delete()\n",
    "db.session.commit()\n",
    "```\n",
    "Now we can go ahead and add our synthetic data:\n",
    "\n",
    "```python\n",
    "from flaskapp import db\n",
    "from flaskapp.models import User, Day, IpView\n",
    "import datetime\n",
    "day1 = Day(id=datetime.date(2025,3,1),views=10)\n",
    "day2 = Day(id=datetime.date(2025,3,5),views=12)\n",
    "day3 = Day(id=datetime.date(2025,3,7),views=13)\n",
    "day4 = Day(id=datetime.date(2025,3,14),views=16)\n",
    "day5 = Day(id=datetime.date(2025,3,20),views=17)\n",
    "day6 = Day(id=datetime.date(2025,3,24),views=13)\n",
    "db.session.add(day1)\n",
    "db.session.add(day2)\n",
    "db.session.add(day3)\n",
    "db.session.add(day4)\n",
    "db.session.add(day5)\n",
    "db.session.add(day6)\n",
    "ipview1 = IpView(ip='127.0.0.1', date_id=day1.id)\n",
    "ipview2 = IpView(ip='127.0.0.1', date_id=day2.id)\n",
    "ipview3 = IpView(ip='127.0.0.1', date_id=day3.id)\n",
    "ipview4 = IpView(ip='127.0.0.1', date_id=day4.id)\n",
    "ipview5 = IpView(ip='127.0.0.1', date_id=day5.id)\n",
    "ipview6 = IpView(ip='127.0.0.1', date_id=day6.id)\n",
    "db.session.add(ipview1)\n",
    "db.session.add(ipview2)\n",
    "db.session.add(ipview3)\n",
    "db.session.add(ipview4)\n",
    "db.session.add(ipview5)\n",
    "db.session.add(ipview6)\n",
    "db.session.commit()\n",
    "```\n",
    "\n",
    "### 6. Routing (`@app.route('/dashboard')`)\n",
    "\n",
    "Now, we will update our dashboard route again, to display the page load data as a (less ugly) plotly bar chart:\n",
    "\n",
    "```python\n",
    "# Route to the dashboard page\n",
    "@app.route('/dashboard_2')\n",
    "def dashboard_2():\n",
    "    days = Day.query.all()\n",
    "    df = pd.DataFrame([{'Date': day.id, 'Page views': day.views} for day in days])\n",
    "\n",
    "    fig = px.bar(df, x='Date', y='Page views')\n",
    "\n",
    "    graphJSON = json.dumps(fig, cls=plotly.utils.PlotlyJSONEncoder)\n",
    "    return render_template('dashboard.html', title='Page views per day', graphJSON=graphJSON)\n",
    "```"
   ]
  },
  {
   "cell_type": "markdown",
   "metadata": {
    "collapsed": false,
    "jupyter": {
     "outputs_hidden": false
    },
    "pycharm": {
     "name": "#%% md\n"
    }
   },
   "source": [
    "# Exercises <a class=\"anchor\" id=\"exercises\"></a>"
   ]
  },
  {
   "cell_type": "markdown",
   "metadata": {
    "collapsed": false,
    "jupyter": {
     "outputs_hidden": false
    }
   },
   "source": [
    "### Exercise 1\n",
    "\n",
    "Implement the page with the plotly bar chart from the [first example](#plotly)."
   ]
  },
  {
   "cell_type": "markdown",
   "metadata": {
    "collapsed": false,
    "jupyter": {
     "outputs_hidden": false
    }
   },
   "source": [
    "### Exercise 2\n",
    "\n",
    "Implement the dashboard for tracking page loads from the [second example](#dashboard)."
   ]
  },
  {
   "cell_type": "markdown",
   "metadata": {
    "collapsed": false,
    "jupyter": {
     "outputs_hidden": false
    },
    "pycharm": {
     "name": "#%% md\n"
    }
   },
   "source": [
    "### Exercise 3\n",
    "\n",
    "Create another page for your website, that gives you information about your blog posts in table format. Specifically, the table should include at least two columns: the date and the number of posts that were published on that date. \n",
    "\n",
    "Hint: You'll have to create another template file (e.g. `blog_dashboard.html`) and create an HTML table. You'll first have to research how to create tables in HTML. In your `routes.py` file, you'll need a new route which passes metadata about the blogs to the new template file."
   ]
  }
 ],
 "metadata": {
  "kernelspec": {
   "display_name": "dsa",
   "language": "python",
   "name": "python3"
  },
  "language_info": {
   "codemirror_mode": {
    "name": "ipython",
    "version": 3
   },
   "file_extension": ".py",
   "mimetype": "text/x-python",
   "name": "python",
   "nbconvert_exporter": "python",
   "pygments_lexer": "ipython3",
   "version": "3.11.11"
  }
 },
 "nbformat": 4,
 "nbformat_minor": 4
}

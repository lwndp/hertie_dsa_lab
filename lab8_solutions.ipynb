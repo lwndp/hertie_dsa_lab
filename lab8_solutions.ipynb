{
 "cells": [
  {
   "cell_type": "markdown",
   "metadata": {
    "collapsed": true,
    "jupyter": {
     "outputs_hidden": true
    },
    "pycharm": {
     "name": "#%% md\n"
    }
   },
   "source": [
    "# Lab 8\n",
    "## Data Structures & Algorithms"
   ]
  },
  {
   "cell_type": "markdown",
   "metadata": {
    "collapsed": false,
    "jupyter": {
     "outputs_hidden": false
    },
    "pycharm": {
     "name": "#%% md\n"
    }
   },
   "source": [
    "## Today\n",
    "* [Divide-and-conquer](#divide)\n",
    "* [Bubble Sort](#motivation-bubble-sort)\n",
    "* [Improved Bubble Sort](#improved-bubble-sort)\n",
    "* [Merge Sort](#merge-sort)\n",
    "* [A Recurrence Relation](#a-recurrency-relation)\n",
    "* [Exercises](#exercises)"
   ]
  },
  {
   "cell_type": "markdown",
   "metadata": {},
   "source": [
    "# Divide-and-conquer \n",
    "\n",
    "Divide-and-conquer algorithms are a class of algorithms that solve a problem by:\n",
    "1. **Divide**: Breaking the problem into smaller, more manageable subproblems.\n",
    "2. **Conquer**: Solving the subproblems recursively.\n",
    "3. **Combine**: Merging the solutions of the subproblems to solve the original problem.\n",
    "\n",
    "### Examples\n",
    "\n",
    "Here's a (highly preliminary) subselection of commond divide-and-conquer algorithms you might find in the wild:\n",
    "\n",
    "*NB: for this lab we'll be focused just on Merge Sort and related brute-force algorithms.*\n",
    "\n",
    "- **Merge Sort**: A sorting algorithm that \n",
    "    1. divides the array into two halves, \n",
    "    2. sorts each half recursively, \n",
    "    3. and then merges the sorted halves.\n",
    "\n",
    "*These others are for your general reference:*\n",
    "\n",
    "- **Quick Sort**: Another sorting algorithm that: \n",
    "    1. selects a pivot element, \n",
    "    2. partitions the array around the pivot, \n",
    "    3. and then sorts the subarrays recursively.\n",
    "- **Binary Search**: A searching algorithm that:\n",
    "    1. divides the sorted array in half at each step,\n",
    "    2. at each step searches to find the target element, \n",
    "    3. does so recursively.\n",
    "- **Strassen's Algorithm**: A matrix multiplication algorithm that: \n",
    "    1. divides matrices into smaller submatrices, \n",
    "    2. recursively, \n",
    "    3. and combines their products efficiently.\n",
    "- **Karatsuba Multiplication**: A multiplication algorithm for two $n$-digit numbers which reduces the process to three multiplications of $\\frac{n}{2}$-digit numbers.\n"
   ]
  },
  {
   "cell_type": "markdown",
   "metadata": {},
   "source": [
    "## Motivation: Bubble Sort\n",
    "\n",
    "Before we dive into sorting techniques like divide-and-conquer algorithms (e.g., Merge Sort or Quick Sort), it's useful to first understand a simpler, more intuitive sorting method: Bubble Sort.\n",
    "\n",
    "**Takeaway here**: these are inefficient / bruteforce -> divide-and-conquer algorithms can do same task more efficiently.\n",
    "\n",
    "**Idea of Bubble Sort**: \n",
    "\n",
    "*Bubble Sort is a straightforward (i.e. naive / brute force) sorting algorithm that works by repeatedly swapping adjacent elements if they are in the wrong order. The idea is to \"bubble up\" the largest element to its correct position in each pass.*\n",
    "1. **Repeated passes**: We iterate through the array $n$ times (where $n$ is the length of the array). \n",
    "    - This ensures that every element has had enough chances to move into the right spot.\n",
    "2. **Pairwise Swapping**: for each pass:\n",
    "    - Compare each adjacent pair of elements.\n",
    "    - If the first element is greater than the second, swap them.\n",
    "\n",
    "Effect of Swapping:\n",
    "- After the first full pass, the largest element moves to the last position.\n",
    "- After the second full pass, the second largest element is in its correct position, and so on.\n",
    "- This continues until the array is fully sorted.\n",
    "\n",
    "Here's an example implementation of bubble sort in Python:"
   ]
  },
  {
   "cell_type": "code",
   "execution_count": 2,
   "metadata": {},
   "outputs": [],
   "source": [
    "def bubble_sort_brute_force(arr):\n",
    "    \"\"\"\n",
    "    Bubble sort \n",
    "    \n",
    "    Parameters\n",
    "    ----------\n",
    "    arr : a list of number\n",
    "\n",
    "    Returns\n",
    "    ----------\n",
    "    The list sorted in ascending order\n",
    "    \"\"\"\n",
    "    \n",
    "    arr_temp = list(arr)\n",
    "    n = len(arr_temp)\n",
    "    \n",
    "    for i in range(n): # NB: i index not used again - this just ensures we go through the list n times\n",
    "        for j in range(n - 1):\n",
    "            # Get the difference between two adjacent numbers\n",
    "            diff = arr_temp[j] - arr_temp[j + 1]\n",
    "            if diff > 0:\n",
    "                # Swap the two numbers\n",
    "                arr_temp[j], arr_temp[j + 1] = arr_temp[j + 1], arr_temp[j]               \n",
    "\n",
    "    return arr_temp"
   ]
  },
  {
   "cell_type": "code",
   "execution_count": 3,
   "metadata": {},
   "outputs": [
    {
     "name": "stdout",
     "output_type": "stream",
     "text": [
      "[]\n",
      "[3]\n",
      "[2, 3]\n",
      "[1, 2, 3, 4]\n"
     ]
    }
   ],
   "source": [
    "arr_1 = []\n",
    "arr_2 = [3]\n",
    "arr_3 = [3, 2]\n",
    "arr_4 = [3, 2, 1, 4]\n",
    "\n",
    "\n",
    "print(bubble_sort_brute_force(arr_1))\n",
    "print(bubble_sort_brute_force(arr_2))\n",
    "print(bubble_sort_brute_force(arr_3))\n",
    "print(bubble_sort_brute_force(arr_4))"
   ]
  },
  {
   "cell_type": "markdown",
   "metadata": {},
   "source": [
    "#### Complexity\n",
    "\n",
    "The time complexity of bubble sort is $O(n^2)$. \n",
    "- In the worst-case scenario, where the input array is in reverse order, bubble sort will need to make $n$ passes through the array, with each pass requiring $O(n)$ comparisons and swaps. \n",
    "    - *NB: it's **brute force** implementation, so it  keeps checking every possible pair over and over, even when parts of the list are already sorted!*\n",
    "- So, despite its simplicity, bubble sort is not efficient for sorting large arrays due to its quadratic time complexity."
   ]
  },
  {
   "cell_type": "markdown",
   "metadata": {},
   "source": [
    "# Improved Bubble Sort"
   ]
  },
  {
   "cell_type": "markdown",
   "metadata": {},
   "source": [
    "We can save on some operations: \n",
    "- We know that in the first round, the largest number will be moved to the last place of the array. \n",
    "- So, in the second round, we do not have to consider the last element in the array as it is the largest element that we moved there in the first round. \n",
    "- By extension, in the third round, we can ignore the last two elements.\n",
    "- ...and so on. \n",
    "- To formalise this: in round $i$, we can ignore the last $i-1$ elements:"
   ]
  },
  {
   "cell_type": "code",
   "execution_count": 4,
   "metadata": {},
   "outputs": [],
   "source": [
    "def bubble_sort_improved(arr):\n",
    "    \"\"\"\n",
    "    Bubble sort \n",
    "    \n",
    "    Parameters\n",
    "    ----------\n",
    "    arr : a list of number\n",
    "\n",
    "    Returns\n",
    "    ----------\n",
    "    The list sorted in ascending order\n",
    "    \"\"\"\n",
    "    \n",
    "    arr_temp = list(arr)\n",
    "    n = len(arr_temp)\n",
    "    \n",
    "    for i in range(n):\n",
    "        # in the second loop, we are leaving out the last i-1 elements of the array (before: n-1)\n",
    "        for j in range(n - i - 1):\n",
    "            # Get the difference between two adjacent numbers\n",
    "            diff = arr_temp[j] - arr_temp[j + 1]\n",
    "            if diff > 0:\n",
    "                # Swap the two numbers\n",
    "                arr_temp[j], arr_temp[j + 1] = arr_temp[j + 1], arr_temp[j]               \n",
    "\n",
    "    return arr_temp"
   ]
  },
  {
   "cell_type": "markdown",
   "metadata": {},
   "source": [
    "#### Complexity\n",
    "\n",
    "NB: this still has running time $O(n^2)$, but it will still be a bit faster."
   ]
  },
  {
   "cell_type": "markdown",
   "metadata": {},
   "source": [
    "# Merge Sort\n",
    "\n",
    "Merge sort is another sorting algorithm, but one that follows the divide-and-conquer approach. \n",
    "\n",
    "Remember, all Divide-and-conquer approaches follow the same 3-step structure:\n",
    "1. **Divide**: Breaking the problem into smaller, more manageable subproblems.\n",
    "2. **Conquer**: Solving the subproblems recursively.\n",
    "3. **Combine**: Merging the solutions of the subproblems to solve the original problem.\n",
    "\n",
    "MergeSort specifically works by:\n",
    "1. Dividing the array into two halves, \n",
    "2. Sorting each half recursively -> base case (ie. 1 element; a 1-element list is always sorted!), \n",
    "3. Merging the sorted halves."
   ]
  },
  {
   "cell_type": "markdown",
   "metadata": {},
   "source": [
    "<div>\n",
    "   <img src=\"images/mergesort_viz.png\" width=\"500px\" title=\"mergesort visualisation\">\n",
    "</div>"
   ]
  },
  {
   "cell_type": "markdown",
   "metadata": {},
   "source": [
    "The fundamental idea is quite simple!\n",
    "\n",
    "The more complex part is in the implementation: how to *merge* the sorted halves into a new sorted array?\n",
    "\n",
    "Let's take a simple example: \n",
    "- `Left  = [1, 4, 6]`\n",
    "- `Right = [2, 3, 5]`\n",
    "- We want to combine into a single sorted list: `Merged = [1, 2, 3, 4, 5, 6]`\n",
    "\n",
    "Basic idea: **compare the smallest unmerged elements** from both lists, one by one, -> insert the smaller one into the result.\n",
    "If we were to try to write that concept in python:\n",
    "- define 3 indexes: 1 to track our position in each list (left: `i`, right: `j`, combined: `k`)\n",
    "- at each step:\n",
    "    - compare values at 2 positions given by `i` (left-list index) vs `j` (right-list index),\n",
    "    - take whichever value is smaller,\n",
    "    - bump the index (either `i` or `j`) up by +1 (so it's now at the next element),\n",
    "    - copy the smaller of the values to `k`'s position (new merged-list index),\n",
    "    - bump that index up by +1 (onto the next value in the new list).\n",
    "- repeat!\n",
    "\n",
    "Here's an example full implementation of MergeSort in Python:"
   ]
  },
  {
   "cell_type": "code",
   "execution_count": 5,
   "metadata": {},
   "outputs": [],
   "source": [
    "def merge_sort(arr):\n",
    "    \"\"\"\n",
    "    Merge sort \n",
    "    \n",
    "    Parameters\n",
    "    ----------\n",
    "    arr : a list of number\n",
    "\n",
    "    Returns\n",
    "    ----------\n",
    "    The list sorted in ascending order\n",
    "    \"\"\"\n",
    "    arr_temp = list(arr)\n",
    "    n = len(arr_temp)    \n",
    "    \n",
    "    if n > 1: \n",
    "        # STEP 1: DIVIDE\n",
    "        # Divide the list into two smaller ones\n",
    "        # The middle of the list\n",
    "        mid = n // 2 # using floor division (a.k.a integer division)\n",
    "        # The left sublist\n",
    "        arr_temp_left = arr_temp[:mid] \n",
    "        # The right sublist\n",
    "        arr_temp_right = arr_temp[mid:]\n",
    "\n",
    "        # STEP 2: RECURSIVE CALL (UNTIL N=1)\n",
    "        # Recursively call merge_sort to sort the two smaller lists\n",
    "        arr_temp_left = merge_sort(arr_temp_left)\n",
    "        arr_temp_right = merge_sort(arr_temp_right)\n",
    "        \n",
    "        # STEP 3: MERGE  \n",
    "        # Merge the two sorted smaller lists\n",
    "        i = j = k = 0\n",
    "        n_left, n_right = len(arr_temp_left), len(arr_temp_right)\n",
    "          \n",
    "        while i < n_left and j < n_right: # this while statement says to keep going through the two lists until one of them is exhausted\n",
    "            if arr_temp_left[i] < arr_temp_right[j]: \n",
    "                arr_temp[k] = arr_temp_left[i] \n",
    "                i += 1\n",
    "            else: \n",
    "                arr_temp[k] = arr_temp_right[j] \n",
    "                j += 1\n",
    "            k += 1\n",
    "          \n",
    "        # If there are elements in arr_temp_left that have not been visited \n",
    "        while i < n_left: \n",
    "            arr_temp[k] = arr_temp_left[i] \n",
    "            i += 1\n",
    "            k += 1\n",
    " \n",
    "        # If there are elements in arr_temp_right that have not been visited \n",
    "        while j < n_right: \n",
    "            arr_temp[k] = arr_temp_right[j] \n",
    "            j += 1\n",
    "            k += 1\n",
    "            \n",
    "    return arr_temp"
   ]
  },
  {
   "cell_type": "code",
   "execution_count": 6,
   "metadata": {},
   "outputs": [
    {
     "name": "stdout",
     "output_type": "stream",
     "text": [
      "[]\n",
      "[3]\n",
      "[2, 3]\n",
      "[1, 2, 3, 4]\n"
     ]
    }
   ],
   "source": [
    "arr_1 = []\n",
    "arr_2 = [3]\n",
    "arr_3 = [3, 2]\n",
    "arr_4 = [3, 2, 1, 4]\n",
    "\n",
    "print(merge_sort(arr_1))\n",
    "print(merge_sort(arr_2))\n",
    "print(merge_sort(arr_3))\n",
    "print(merge_sort(arr_4))"
   ]
  },
  {
   "cell_type": "markdown",
   "metadata": {},
   "source": [
    "### Time Complexity Analysis\n",
    "\n",
    "Merge Sort has a time complexity of $O(n \\log n)$ in all cases, making it a more efficient sorting algorithm than Bubble Sort. \n",
    "\n",
    "It achieves this time complexity by dividing the array into halves recursively and merging the sorted halves *efficiently*.\n",
    "\n",
    "Let's look at this in more detail: remember that for divide-and-conquer algorithms, we use a **recurrence relation** to express the running time."
   ]
  },
  {
   "cell_type": "markdown",
   "metadata": {},
   "source": [
    "# Timed example!"
   ]
  },
  {
   "cell_type": "code",
   "execution_count": 9,
   "metadata": {},
   "outputs": [
    {
     "name": "stdout",
     "output_type": "stream",
     "text": [
      "Bubble Sort Time: 1.2219 seconds\n",
      "Merge Sort Time:  0.0045 seconds\n",
      "Merge sort is 272.61 times faster than bubble sort\n"
     ]
    }
   ],
   "source": [
    "import random\n",
    "import time\n",
    "\n",
    "random.seed(42)\n",
    "long_arr = [random.randint(0, 10_000) for _ in range(5000)]\n",
    "\n",
    "# let's time bubble sort\n",
    "start_bubble = time.time()\n",
    "bubble_sort_brute_force(long_arr)\n",
    "end_bubble = time.time()\n",
    "bubble_time = end_bubble - start_bubble\n",
    "\n",
    "# ...and merge sort\n",
    "start_merge = time.time()\n",
    "merge_sort(long_arr)\n",
    "end_merge = time.time()\n",
    "merge_time = end_merge - start_merge\n",
    "\n",
    "# Print results\n",
    "print(f\"Bubble Sort Time: {bubble_time:.4f} seconds\")\n",
    "print(f\"Merge Sort Time:  {merge_time:.4f} seconds\")\n",
    "print(f\"Merge sort is {bubble_time / merge_time:.2f} times faster than bubble sort\")"
   ]
  },
  {
   "cell_type": "markdown",
   "metadata": {},
   "source": [
    "## Exercises"
   ]
  },
  {
   "cell_type": "markdown",
   "metadata": {},
   "source": [
    "### Exercise 1\n",
    "\n",
    "Extend the bubble sort algorithm from above, to make it more efficient. \n",
    "\n",
    "When we pass an already sorted array to the implementation of the algorithm above, it always goes through the array $n$ times, which is unnecessary. In this even further improved version, we want to make sure that after each round of passing through the array, we first check if the array has already been sorted and we terminate the algorithm as soon as we find that it has. Implement this according to the following idea:\n",
    "\n",
    "* remember that we compare each two adjacent elements in the array and do a swap if the first is larger than the second\n",
    "* this means that if no two elements were swapped in a round, the array is already sorted!\n",
    "* include a variable in your code that indicates if any swap was made in a round\n",
    "* then terminate the algorithm once the flag variable has not recorded any swaps"
   ]
  },
  {
   "cell_type": "code",
   "execution_count": 6,
   "metadata": {},
   "outputs": [],
   "source": [
    "def bubble_sort_optimal(arr):\n",
    "    \"\"\"\n",
    "    Bubble sort \n",
    "    \n",
    "    Parameters\n",
    "    ----------\n",
    "    arr : a list of number\n",
    "\n",
    "    Returns\n",
    "    ----------\n",
    "    The list sorted in ascending order\n",
    "    \"\"\"\n",
    "\n",
    "    # Implement me\n",
    "    arr_temp = list(arr)\n",
    "    n = len(arr_temp)\n",
    "    \n",
    "    for i in range(n):\n",
    "        # If there are numbers that were swapped, False by default\n",
    "        swapped = False\n",
    "        \n",
    "        for j in range(n - i - 1):\n",
    "            # Get the difference between two adjacent numbers\n",
    "            diff = arr_temp[j] - arr_temp[j + 1]\n",
    "            if diff > 0:\n",
    "                # Swap the two numbers\n",
    "                arr_temp[j], arr_temp[j + 1] = arr_temp[j + 1], arr_temp[j]    \n",
    "                \n",
    "                # There are numbers that were swapped\n",
    "                swapped = True\n",
    "        \n",
    "        # If there were no numbers that were swapped\n",
    "        if swapped is False:\n",
    "            break\n",
    "\n",
    "    return arr_temp"
   ]
  },
  {
   "cell_type": "code",
   "execution_count": 7,
   "metadata": {},
   "outputs": [
    {
     "name": "stdout",
     "output_type": "stream",
     "text": [
      "[]\n",
      "[3]\n",
      "[2, 3]\n",
      "[1, 2, 3, 4]\n"
     ]
    }
   ],
   "source": [
    "arr_1 = []\n",
    "arr_2 = [3]\n",
    "arr_3 = [3, 2]\n",
    "arr_4 = [3, 2, 1, 4]\n",
    "\n",
    "print(bubble_sort_optimal(arr_1))\n",
    "print(bubble_sort_optimal(arr_2))\n",
    "print(bubble_sort_optimal(arr_3))\n",
    "print(bubble_sort_optimal(arr_4))"
   ]
  },
  {
   "cell_type": "markdown",
   "metadata": {},
   "source": [
    "### Exercise 2\n",
    "\n",
    "Modify the merge sort algorithm to sort the elements in descending order."
   ]
  },
  {
   "cell_type": "code",
   "execution_count": null,
   "metadata": {},
   "outputs": [],
   "source": [
    "def merge_sort_desc(arr):\n",
    "    \"\"\"\n",
    "    Merge sort in descending order\n",
    "    \n",
    "    Parameters\n",
    "    ----------\n",
    "    arr : list\n",
    "        A list of numbers\n",
    "    \n",
    "    Returns\n",
    "    -------\n",
    "    list\n",
    "        The list sorted in descending order\n",
    "    \"\"\"\n",
    "    arr_temp = list(arr)\n",
    "    n = len(arr_temp)    \n",
    "    \n",
    "    if n > 1: \n",
    "        # Divide the list into two smaller ones\n",
    "        mid = n // 2\n",
    "        arr_temp_left = arr_temp[:mid] \n",
    "        arr_temp_right = arr_temp[mid:]\n",
    "  \n",
    "        # Recursively call merge_sort_desc to sort the two smaller lists\n",
    "        arr_temp_left = merge_sort_desc(arr_temp_left)\n",
    "        arr_temp_right = merge_sort_desc(arr_temp_right)\n",
    "          \n",
    "        # Merge the two sorted smaller lists\n",
    "        i = j = k = 0\n",
    "        n_left, n_right = len(arr_temp_left), len(arr_temp_right)\n",
    "          \n",
    "        while i < n_left and j < n_right: \n",
    "            # CHANGED PART OF THE CODE: Now sorting in descending order\n",
    "            if arr_temp_left[i] > arr_temp_right[j]: \n",
    "                arr_temp[k] = arr_temp_left[i] \n",
    "                i += 1\n",
    "            else: \n",
    "                arr_temp[k] = arr_temp_right[j] \n",
    "                j += 1\n",
    "            k += 1\n",
    "          \n",
    "        # If there are elements in arr_temp_left that have not been visited \n",
    "        while i < n_left: \n",
    "            arr_temp[k] = arr_temp_left[i] \n",
    "            i += 1\n",
    "            k += 1\n",
    " \n",
    "        # If there are elements in arr_temp_right that have not been visited \n",
    "        while j < n_right: \n",
    "            arr_temp[k] = arr_temp_right[j] \n",
    "            j += 1\n",
    "            k += 1\n",
    "            \n",
    "    return arr_temp"
   ]
  },
  {
   "cell_type": "code",
   "execution_count": 9,
   "metadata": {},
   "outputs": [
    {
     "name": "stdout",
     "output_type": "stream",
     "text": [
      "[]\n",
      "[3]\n",
      "[3, 2]\n",
      "[4, 3, 2, 1]\n"
     ]
    }
   ],
   "source": [
    "arr_1 = []\n",
    "arr_2 = [3]\n",
    "arr_3 = [2, 3]\n",
    "arr_4 = [3, 2, 1, 4]\n",
    "\n",
    "print(merge_sort_desc(arr_1))\n",
    "print(merge_sort_desc(arr_2))\n",
    "print(merge_sort_desc(arr_3))\n",
    "print(merge_sort_desc(arr_4))"
   ]
  },
  {
   "cell_type": "markdown",
   "metadata": {},
   "source": [
    "### Exercise 3\n",
    "\n",
    "An **inversion** in an array is when for two elements `array[i]` and `array[j]` we have `array[i]` > `array[j]` and `i < j`. E.g. `array = [3,1,2]` has two inversion: `(3,1)` and `(3,2)`. In other words, an inversion is every pair of elements that is violating an ascending order of the elements.\n",
    "\n",
    "Implement an algorithm for counting inversions in a naive way, where you go through every single pair of elements and check if it is an inversion. If it is, increase a counter by 1."
   ]
  },
  {
   "cell_type": "code",
   "execution_count": 10,
   "metadata": {},
   "outputs": [],
   "source": [
    "def count_inversions_brute_force(arr):\n",
    "    \"\"\"\n",
    "    Count inversions in an array using the brute-force approach.\n",
    "    \n",
    "    Inversion in an array occurs when a pair of elements (arr[i], arr[j]) where i < j,\n",
    "    and arr[i] > arr[j].\n",
    "    \n",
    "    Parameters\n",
    "    ----------\n",
    "    arr : list\n",
    "        A list of numbers.\n",
    "\n",
    "    Returns\n",
    "    -------\n",
    "    int\n",
    "        The number of inversions in the array.\n",
    "    \"\"\"\n",
    "    inv_count = 0  # Initialize inversion count\n",
    "    n = len(arr)\n",
    "    \n",
    "    # Iterate through each pair of elements\n",
    "    for i in range(n): \n",
    "        for j in range(i + 1, n): \n",
    "            # If arr[i] is greater than arr[j], increment inversion count\n",
    "            if arr[i] > arr[j]: \n",
    "                inv_count += 1\n",
    "  \n",
    "    return inv_count"
   ]
  },
  {
   "cell_type": "code",
   "execution_count": 11,
   "metadata": {},
   "outputs": [
    {
     "name": "stdout",
     "output_type": "stream",
     "text": [
      "0\n",
      "10\n",
      "5\n"
     ]
    }
   ],
   "source": [
    "arr_1 = [1, 2, 3, 4, 5]\n",
    "arr_2 = [5, 4, 3, 2, 1]\n",
    "arr_3 = [2, 3, 8, 6, 1]\n",
    "\n",
    "print(count_inversions_brute_force(arr_1))\n",
    "print(count_inversions_brute_force(arr_2))\n",
    "print(count_inversions_brute_force(arr_3))"
   ]
  },
  {
   "cell_type": "markdown",
   "metadata": {},
   "source": [
    "### Exercise 4\n",
    "\n",
    "What is the time and space complexity of this algorithm? "
   ]
  },
  {
   "cell_type": "markdown",
   "metadata": {},
   "source": [
    "* Time Complexity: $O(n^2)$ because two nested loops are needed to traverse the array from start to end.\n",
    "* Space Complexity: $O(1)$ because no extra space is required."
   ]
  },
  {
   "cell_type": "markdown",
   "metadata": {},
   "source": [
    "### Exercise 5\n",
    "\n",
    "Now, implement the counting inversions algorithm so that it runs in $O(n \\log n)$ using divide-and-conquer. In the end, it should return the total number of inversions and the sorted input array. There's a very helpful section in the Algorithm Design (Kleinberg & Tardos) textbook (in chapter 5). The following hints for the implementations (and the solutions that will be provided) come from [this](https://www.geeksforgeeks.org/python-program-for-count-inversions-in-an-array-set-1-using-merge-sort/) website. Do try this yourself before looking at the implementation!\n",
    "\n",
    "* the idea of divide-and-conquer is always to recursively divide the array into subarrays\n",
    "* imagine that we divide an array into two subarrays and manage to find the number of inversions for each\n",
    "* to find the total number of inversions, we are then only missing the inversions that need to be counted across the two subarray (i.e. in the 'combination' or 'merge' step of the divide-and-conquer algorithm)\n",
    "* so the total number of inversions is the number of inversions in the left subarray, right subarray, and merge().\n",
    "* to get the number of inversions in merge(): let i is used for indexing left sub-array and j for right sub-array. At any step in merge(), if a[i] is greater than a[j], then there are (mid – i) inversions. because left and right subarrays are sorted, so all the remaining elements in left-subarray (a[i+1], a[i+2] … a[mid]) will be greater than a[j]"
   ]
  },
  {
   "cell_type": "markdown",
   "metadata": {},
   "source": [
    "To deal with the last part of the algorithm (counting the inversions in 'merge'), first write a merge-and-sort functions according to the following pseudo code from the Algorithm Design textbook. Note that this is a **very** similar algorithm to a part of the merge sort algorithm we looked at above (except you also have to keep track of the inversions as you merge the two arrays).\n",
    "\n",
    "```{python}\n",
    "    Merge-and-Count(A,B)\n",
    "        Maintain a Current pointer into each list, initialized to point to the front elements (e.g. use i and j, that are both 0 to start with)\n",
    "        Maintain a variable Count for the number of inversions, initialized to 0\n",
    "        While both lists are nonempty:\n",
    "            Let ai and bj be the elements pointed to by the Current pointers, ai = A[i] and bj = B[j]\n",
    "            Append the smaller of these two to the output list\n",
    "            If bj is the smaller element:\n",
    "                Increment Count by the number of elements remaining in A\n",
    "            Endif\n",
    "            Advance the Current pointer in the list from which the smaller element was selected.\n",
    "        EndWhile\n",
    "        Once one list is empty, append the remainder of the other list to the output\n",
    "        Return Count and the merged list\n",
    "```"
   ]
  },
  {
   "cell_type": "code",
   "execution_count": 12,
   "metadata": {},
   "outputs": [],
   "source": [
    "def merge_and_count(A, B):\n",
    "    \"\"\"\n",
    "    Merge two sorted lists and count inversions\n",
    "    \n",
    "    Parameters\n",
    "    ----------\n",
    "    A : list\n",
    "        A sorted list.\n",
    "    B : list\n",
    "        Another sorted list.\n",
    "\n",
    "    Returns\n",
    "    ----------\n",
    "    tuple\n",
    "        A tuple containing the merged sorted list and the number of inversions.\n",
    "    \"\"\"\n",
    "\n",
    "    # initialise what will be the merged list\n",
    "    len_C = len(A) + len(B)\n",
    "    C = [0] * len_C\n",
    "\n",
    "    # initialise the number of inversions\n",
    "    inversions = 0  \n",
    "\n",
    "    # initialise the pointers\n",
    "    i = j = k = 0\n",
    "    n_left, n_right = len(A), len(B)\n",
    "      \n",
    "    while i < n_left and j < n_right: \n",
    "        if A[i] <= B[j]: \n",
    "            C[k] = A[i] \n",
    "            i += 1\n",
    "        else: \n",
    "            C[k] = B[j] \n",
    "            j += 1\n",
    "            # increment the number of inversions by the number of elements remaining in A\n",
    "            inversions += len(A) - i \n",
    "        k += 1\n",
    "      \n",
    "    # If there are elements in A that have not been visited \n",
    "    while i < n_left: \n",
    "        C[k] = A[i] \n",
    "        i += 1\n",
    "        k += 1\n",
    "\n",
    "    # If there are elements in B that have not been visited \n",
    "    while j < n_right: \n",
    "        C[k] = B[j] \n",
    "        j += 1\n",
    "        k += 1\n",
    "    \n",
    "    return inversions, C"
   ]
  },
  {
   "cell_type": "code",
   "execution_count": 13,
   "metadata": {},
   "outputs": [
    {
     "name": "stdout",
     "output_type": "stream",
     "text": [
      "Merged list: [1, 2, 3, 4, 5, 6, 7, 8]\n",
      "Number of inversions: 6\n"
     ]
    }
   ],
   "source": [
    "A = [1, 3, 5, 7]\n",
    "B = [2, 4, 6, 8]\n",
    "inversions, merged_list = merge_and_count(A, B)\n",
    "print(\"Merged list:\", merged_list)\n",
    "print(\"Number of inversions:\", inversions)"
   ]
  },
  {
   "cell_type": "markdown",
   "metadata": {},
   "source": [
    "### Exercise 6\n",
    "\n",
    "We now use the function written in the last exercise, to write the algorithm for counting inversions, that we call `sort_and_count`.\n",
    "\n",
    "Again, use the pseudo-code from the text book as a helper:\n",
    "\n",
    "```\n",
    "Sort-and-Count(L)\n",
    "If the list has one element:\n",
    "    there are no inversions\n",
    "Else\n",
    "    Divide the list into two halves:\n",
    "        A contains the first ⌈n/2⌉ elements\n",
    "        B contains the remaining ⌊n/2⌋ elements\n",
    "    (rA, A) = Sort-and-Count(A)\n",
    "    (rB, B) = Sort-and-Count(B)\n",
    "    (r,L) = Merge-and-Count(A,B)\n",
    "Endif\n",
    "Return r =rA +rB +r, and the sorted list L\n",
    "```"
   ]
  },
  {
   "cell_type": "code",
   "execution_count": 14,
   "metadata": {},
   "outputs": [],
   "source": [
    "def sort_and_count(L):\n",
    "    \"\"\"\n",
    "    Sort a list and count inversions using divide-and-conquer approach\n",
    "    \n",
    "    Parameters\n",
    "    ----------\n",
    "    L : list\n",
    "        A list of elements.\n",
    "\n",
    "    Returns\n",
    "    ----------\n",
    "    tuple\n",
    "        A tuple containing the number of inversions and the sorted list.\n",
    "    \"\"\"\n",
    "    \n",
    "    n = len(L)\n",
    "\n",
    "    # if the length of the input list L is n=1, just return 0 inversions and the list itself\n",
    "    if n == 1:\n",
    "        return 0, L\n",
    "    \n",
    "    # Divide the list into two halves\n",
    "    mid = n // 2\n",
    "    A = L[:mid]\n",
    "    B = L[mid:]\n",
    "    \n",
    "    # Recursively sort and count inversions in each half \n",
    "    rA, A = sort_and_count(A)\n",
    "    rB, B = sort_and_count(B)\n",
    "    \n",
    "    # Merge the sorted halves and count inversions\n",
    "    inversions, sorted_list = merge_and_count(A, B)\n",
    "    \n",
    "    # Return the total count of inversions and the sorted list\n",
    "    return rA + rB + inversions, sorted_list"
   ]
  },
  {
   "cell_type": "code",
   "execution_count": 15,
   "metadata": {},
   "outputs": [
    {
     "name": "stdout",
     "output_type": "stream",
     "text": [
      "(0, [1, 2, 3, 4, 5])\n",
      "(10, [1, 2, 3, 4, 5])\n",
      "(5, [1, 2, 3, 6, 8])\n"
     ]
    }
   ],
   "source": [
    "arr_1 = [1, 2, 3, 4, 5]\n",
    "arr_2 = [5, 4, 3, 2, 1]\n",
    "arr_3 = [2, 3, 8, 6, 1]\n",
    "\n",
    "print(sort_and_count(arr_1))\n",
    "print(sort_and_count(arr_2))\n",
    "print(sort_and_count(arr_3))"
   ]
  }
 ],
 "metadata": {
  "kernelspec": {
   "display_name": "dsa",
   "language": "python",
   "name": "python3"
  },
  "language_info": {
   "codemirror_mode": {
    "name": "ipython",
    "version": 3
   },
   "file_extension": ".py",
   "mimetype": "text/x-python",
   "name": "python",
   "nbconvert_exporter": "python",
   "pygments_lexer": "ipython3",
   "version": "3.11.11"
  }
 },
 "nbformat": 4,
 "nbformat_minor": 4
}

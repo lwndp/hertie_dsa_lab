{
 "cells": [
  {
   "cell_type": "markdown",
   "metadata": {},
   "source": [
    "# Lab 3\n",
    "## Data Structures & Algorithms"
   ]
  },
  {
   "cell_type": "markdown",
   "metadata": {},
   "source": [
    "## Today\n",
    "\n",
    "* [Coding workflows](#workflows)\n",
    "* [Dynamic web apps with flask](#dynamic)\n",
    "* [A Dynamic Flask example: a calculator](#example)\n",
    "* [Deploying your flask app](#deployment)\n",
    "* [Exercises](#exercises)"
   ]
  },
  {
   "cell_type": "markdown",
   "metadata": {},
   "source": [
    "# Refresher on Coding Workflows <a class=\"anchor\" id=\"workflows\"></a>"
   ]
  },
  {
   "cell_type": "markdown",
   "metadata": {},
   "source": [
    "### Virtual environments\n",
    "\n",
    "Virtual environments help you isolate the Python (or R) versions and packages that you need for a certain project from those you might need from a different one. \n",
    "\n",
    "* When you create a new virtual environment using the `conda create -n env_name ...` command, miniconda automatically creates a new directory with the name you have chosen (in this case it would be `env_name`) inside miniconda's own directory structure. \n",
    "* By default, this is in your `Users` folder or equivalent \n",
    "    - (e.g. for me the path to the new directory in this example would be `/Users/henrybaker/miniconda3/envs/env_name`).\n",
    "* Once you have created a virtual environment, you can completely ignore this folder - it's where conda installs Python & packages\n",
    "    - **do not** create your project directories **inside** this miniconda folder structure. \n",
    "    - Instead, keep project directories in your normal folder structure; \n",
    "    - To use the conda environment (e.g. to run a jupyter notebook or a flask app), run `conda activate env_name` on the command line after having navigated into the desired folder using `cd`.\n",
    "\n",
    "### Jupyter notebooks vs Python modules (and IDEs)\n",
    "**Jupyter notebooks** \n",
    "- (files with the `.ipynb` extension) \n",
    "- best for code exploration and to display code alongside markdown. \n",
    "\n",
    "**Python modules** \n",
    "- (files with the `.py` extension) \n",
    "- where you write the functions and classes that will be reused later on (e.g. as part of a data science project or a web app, or even in a Jupyter notebook). "
   ]
  },
  {
   "cell_type": "markdown",
   "metadata": {},
   "source": [
    "## Dynamic web apps with Flask <a class=\"anchor\" id=\"dynamic\"></a>\n",
    "\n",
    "Unlike static websites (which look the same to any user who visits them), dynamic websites can change their content based on the user and their input. \n",
    "\n",
    "**Any** website: it gets displayed to you after you enter a URL that triggers the browser to send a request to the web server where the website is hosted and which then sends back an HTML file (plus whatever else is necessary) to display the webpage.\n",
    "\n",
    "**Static websites**: \n",
    "* content is fixed and does not change based on the user’s interactions or input. The web pages are generated before being served to the user, typically when they are first created or deployed.\n",
    "* consist of (fixed) HTML, CSS, and JavaScript files ('client-side' languages), that are stored on a web server. \n",
    "* when you visit a static website, the server simply retrieves the stored HTML file and sends it to the browser, where it’s rendered as-is.\n",
    "* Pros:\n",
    "    - Easy and fast to create, especially for small sites (e.g., portfolios, personal websites).\n",
    "    - Quick loading times because the content is pre-generated and does not require server-side computation for each request.\n",
    "* Cons:\n",
    "    - Not scalable: Each page must be manually updated if content changes.\n",
    "    - No personalisation: All users see the same content. There is no interaction based on user input or characteristics.\n",
    "\n",
    "**Dynamic websites**: \n",
    "* creates and delivers content on-demand based on user input, requests, or other changing data.\n",
    "* use server-side languages (like Flask, Python, PHP, Ruby) in combination with client-side languages (HTML, CSS, JavaScript).\n",
    "* generated on the server in response to each user request. This means that the content may change based on user interaction, the data on the server, or specific requests.\n",
    "* when you visit a dynamic website, the server processes data (such as querying a database, using user input, or checking user preferences), generates the appropriate HTML, and sends it back to the browser.\n",
    "* Pros:\n",
    "    - Scalability & personalisation & easier to update/maintain (since  content is generated dynamically - e.g., adding new posts, changing user data - can be done without manually editing static HTML files).\n",
    "* Cons:\n",
    "    - complexity: involves server-side programming, handling databases, and writing logic to generate the content on demand.\n",
    "    - load times\n",
    "\n",
    "**Flask and Dynamic Websites:**\n",
    "* Flask is a lightweight Python framework used to build dynamic websites. \n",
    "* Server-Side Generation whereby Flask is used to write the server-side code. It handles HTTP requests, processes data (from databases, forms, or other sources), and returns dynamically generated HTML to the user.\n",
    "* dynamic Routing: Flask allows developers to define routes dynamically, such as /user/<username> to show a personalized page for a specific user. The content of these pages is generated based on parameters passed in the URL.\n",
    "* Flask integrates with Jinja2 (its templating engine) to render HTML templates dynamically; the server can pass data (like a username or the latest blog posts) to an HTML template, which will render that data on the page.\n",
    "* database Interaction: Flask can interact with databases to pull in dynamic data; a Flask app might fetch a user's posts from a database and render them dynamically within the page."
   ]
  },
  {
   "cell_type": "markdown",
   "metadata": {},
   "source": [
    "## A Dynamic Flask example: a calculator <a class=\"anchor\" id=\"example\"></a>\n",
    "\n",
    "Let's create a new flask app, this time with a slightly more advanced user input and some more functionality: a basic calculator."
   ]
  },
  {
   "cell_type": "markdown",
   "metadata": {},
   "source": [
    "### Recap: Setting up\n",
    "* create a new project, e.g. called `calculator_app`\n",
    "* in the command line, navigate into this new project directory by running `cd calculator_app` \n",
    "    - if you are currently located in the parent directory, otherwise you have to `cd` to the entire directory path.\n",
    "    - Navigating into the `calculator_app` folder is necessary because this is where you will create your main app module `flask_app.py` (and your `templates` folder).\n",
    "* IMPORTANT: today, it should be called `flask_app.py` rather than anything else. \n",
    "    - We will see later why! \n",
    "    - Once you have created your app module, you will run the flask run command in the command line - this only works if you are located in the correct folder that contains the main module file.\n",
    "* in the command line, activate the flask app environment you created in the last lab, by running `conda activate ...` where you replace the dots with your environment name.\n",
    "    - (normally we create a new environment for each project, but this is just another very small example, so we can stick with this one)\n",
    "    -  to remind yourself of the virtual environments that you already have created, you can run `conda env list` and it will display a list of all created environments.\n",
    "* open the project in your IDE and create a `flask_app.py` file in the root directory of the project\n",
    "    - it should be saved inside the `calculator_app` folder\n",
    "* now insert the following code into your `flask_app.py` file \n",
    "    - you will need the `render_template` and `request` methods later, so make sure to include them in the import statement:\n",
    "\n",
    "```python\n",
    "from flask import Flask, render_template, request\n",
    "\n",
    "app = Flask(__name__)  # create the instance of the flask class\n",
    "\n",
    "\n",
    "@app.route('/')\n",
    "def home():\n",
    "    return 'Home page'\n",
    "```\n",
    "\n",
    "* as last time, run the app in your browser \n",
    "    - navigate to the correct directoy in the command line\n",
    "    - `flask flask_app run`\n",
    "    - paste `http://127.0.0.1:5000` into the browser."
   ]
  },
  {
   "cell_type": "markdown",
   "metadata": {},
   "source": [
    "### Adding dynamic elements\n",
    "\n",
    "**Static example**\n",
    "* let us change our home page to show the result of a calculation. Replace the `home` function by the following:\n",
    "\n",
    "    ```python\n",
    "    @app.route('/')\n",
    "    def home():\n",
    "        value1 = 3\n",
    "        value2 = 4\n",
    "        result = value1 + value2\n",
    "        return str(result)\n",
    "    ```\n",
    "* save the python module and refresh the browser. What does it show?\n",
    "\n",
    "**Dynamic example**\n",
    "* make your app dynamic, by letting the user pass variables to the URL:\n",
    "\n",
    "    ```python\n",
    "    @app.route('/<value1>_<value2>')\n",
    "    def home(value1, value2):\n",
    "        value1 = float(value1)\n",
    "        value2 = float(value2)\n",
    "        return str(value1 + value2) # need to convert to string (float is not a valid response type for Flask to send back to the client.)\n",
    "    ```\n",
    "\n",
    "* next, let the user decide the operation that they want to use (for now, only allowing summation):\n",
    "\n",
    "    ```python\n",
    "    @app.route('/<value1>_<operation>_<value2>')\n",
    "    def home(value1, value2, operation):\n",
    "        value1 = float(value1)\n",
    "        value2 = float(value2)\n",
    "        if operation == 'addition':\n",
    "            return str(value1 + value2)\n",
    "        else:\n",
    "            return 'Operation must be \"addition\"'\n",
    "    ```"
   ]
  },
  {
   "cell_type": "markdown",
   "metadata": {},
   "source": [
    "## Further dynamic elements\n",
    "\n",
    "When building dynamic web applications, we need to allow users to interact with the app, providing their input to trigger calculations or actions. \n",
    "\n",
    "In our case, the goal is to let users input values (such as numbers and operations) into an HTML form, press a button, and then see the result of a calculation.\n",
    "\n",
    "To achieve this, we use form elements in our 'frontend' HTML templates, which allow users to submit their input to the server which then carries out the calculations (as defined in our 'backend' Flask logic).\n",
    "\n",
    "### 1. HTML Form:\n",
    "\n",
    "* users should be able to enter their values into fields on the app and then press a button to make the calculation. \n",
    "    - For this we need to create something called a **form element**, tagged using `<form>`, \n",
    "    - the form is the container that holds the input fields and button.\n",
    "    - the inputs of which Python will send back to the server to change your variables (through the `POST` action). \n",
    "* we use a template instead of creating our HTML *within* the `flask_app.py` file. \n",
    "    - create a `templates` folder inside your project root \n",
    "    - create an `index.html` file within the `templates` folder. Copy the following code into the empty `index.html` file:\n",
    "\n",
    "    ```html\n",
    "    <!DOCTYPE html>\n",
    "    <html >\n",
    "    <head>\n",
    "    <title>Flask Calculator</title>\n",
    "    </head>\n",
    "\n",
    "    <body>\n",
    "        <h1>Calculator</h1>\n",
    "\n",
    "        <form action=\"{{ url_for('calculate')}}\" method=\"post\">\n",
    "            <input type=\"text\" name=\"value1\" placeholder=\"Enter the first number\" required=\"required\" />\n",
    "            <input type=\"text\" name=\"value2\" placeholder=\"Enter the second number\" required=\"required\" />\n",
    "            <input type=\"text\" name=\"operation\" placeholder=\"addition\" required=\"required\" />\n",
    "            <button type=\"submit\">Calculate</button>\n",
    "        </form>\n",
    "\n",
    "    <br>\n",
    "\n",
    "    {{ printed_result }}\n",
    "\n",
    "    </body>\n",
    "    </html>\n",
    "    ```\n",
    "\n",
    "Before moving to the corresponding Flask logic, let us take a look at what this is doing. \n",
    "You are creating an HTML form element with the following parts:\n",
    "* **the `action` parameter** specifies a URL that the form data is sent to once the user clicks the button with the type `submit`\n",
    "    - in flask, the `url_for` function specifes a URL to a particular route/view of your page (in this case the `/calculate` route)\n",
    "    - so, later we will need logic that routes `/calculate` and defines an associated function for what to do with it\n",
    "\n",
    "* **the `method` parameter** means that the data that a user puts into this form will be sent to the server with the POST method \n",
    "    - the POST method is commonly used for sending form data because it keeps data private (unlike GET, which appends data to the URL)\n",
    "    - we will also need to specify this in our route\n",
    "\n",
    "* when a user presses the `submit` button of this form (which has the text 'Calculate' on it), the data that a user has put into the form gets sent to the server, which does some operations with it and then sends an HTML back to the web browser (in whatever you have defined in your code). \n",
    "    - NB: the `name` tags in the different elements represent how this data gets sent to the server.\n",
    "        - e.g. name=\"value1\": means Flask will be able to access this field using request.form['value1'] when the form is submitted.\n",
    "        - e.g. name=\"operation\": Flask will access it with request.form['operation'].\n",
    "\n",
    "### 2. Flask/python logic\n",
    "   \n",
    "* we now also need to change our `flask_app.py` file that contains our Flask logic, so that the server knows how to deal with this form data and execute the calculation. \n",
    "\n",
    "* Copy the following code into your `flask_app.py` file, replacing the entire `home` function you wrote before.\n",
    "\n",
    "    ```python\n",
    "    @app.route('/')\n",
    "    def home():\n",
    "        return render_template('index.html')\n",
    "\n",
    "\n",
    "    @app.route('/calculate', methods=['POST'])  # associating the POST method with this route\n",
    "    def calculate():\n",
    "\n",
    "        # using the request method from flask to request the values that were sent to the server through the POST method\n",
    "        # route handles form submission when user clicks \"Calculate\" button.\n",
    "        value1 = request.form['value1']\n",
    "        value2 = request.form['value2']\n",
    "        operation = str(request.form['operation'])\n",
    "\n",
    "        # convert the input to floating points\n",
    "        value1 = float(value1)\n",
    "        value2 = float(value2)\n",
    "\n",
    "        if operation == 'addition':\n",
    "            return render_template('index.html', printed_result=str(value1 + value2))\n",
    "        else:\n",
    "            return render_template('index.html', printed_result='Operation must be \"addition\"')\n",
    "        \n",
    "    ```\n",
    "\n",
    "* here, we have used flask's `request` method, to retrieve the elements that we have defined in the HTML form (i.e. the text elements that we have given the `name` tag in the form)"
   ]
  },
  {
   "cell_type": "markdown",
   "metadata": {},
   "source": [
    "# How to deploy your flask app? <a class=\"anchor\" id=\"deployment\"></a>\n",
    "\n",
    "* so far, our apps have only been running 'locally'\n",
    "* to publish them to the internet, you need to **deploy** your app to a hosting platform (so that it is no longer hosted on your local machine, but on a hosting platform where your code will be constantly running at some domain)\n",
    "* we will choose the hosting platform called [pythonanywhere](https://www.pythonanywhere.com/), since it has a completely free option; there are many options for deployment, but most of them are not free (or have a free version, but require a credit card to sign up)\n",
    "\n",
    "## Create your web app on pythonanywhere\n",
    "\n",
    "* create a free PythonAnywhere account and log in\n",
    "* go to the Web menu item and press Add new web app\n",
    "* click next, then click on the Flask option and finally, choose the latest version of Python in the list\n",
    "* you will now see the pythonanywhere project path - just accept the default one by clicking Next again\n",
    "* in your browser, visit https://yourusername.pythonanywhere.com (replacing `yourusername` with your actual pythonanywhere username)\n",
    "\n",
    "## Upload your project\n",
    "\n",
    "* go to Web menu and scroll down to the Code section - click on Go to directory next to where it says Source code (this is where we will upload our files, so that they can be hosted on pythonanywhere)\n",
    "* this takes you to the Files section of pythonanywhere; delete the `flask_app.py` file that is there by default\n",
    "* use the Upload a file button and upload your own `flask_app.py` file (it is important that it has this exact name, since pythonanywhere will be looking for a file with this name)\n",
    "* on the left, under Directories, enter the name `templates` into the box and press New directory\n",
    "* Upload the `index.html` file into this directory\n",
    "* go back to the Web menu and click `Reload https://yourusername.pythonanywhere.com`\n",
    "* send to your friends and relatives to make them proud of how far you've come."
   ]
  },
  {
   "cell_type": "markdown",
   "metadata": {
    "collapsed": false,
    "pycharm": {
     "name": "#%% md\n"
    }
   },
   "source": [
    "## Exercises <a class=\"anchor\" id=\"exercises\"></a>"
   ]
  },
  {
   "cell_type": "markdown",
   "metadata": {
    "collapsed": false
   },
   "source": [
    "### Exercise 1\n",
    "\n",
    "Go through the steps in the [A Dynamic Flask example: a calculator](#example) section to create your first basic calculator app."
   ]
  },
  {
   "cell_type": "markdown",
   "metadata": {
    "collapsed": false
   },
   "source": [
    "### Exercise 2\n",
    "\n",
    "Go through the steps in the [How to deploy your flask app](#deployment) section to employ your app."
   ]
  },
  {
   "cell_type": "markdown",
   "metadata": {
    "collapsed": false,
    "jupyter": {
     "outputs_hidden": false
    },
    "pycharm": {
     "name": "#%% md\n"
    }
   },
   "source": [
    "### Exercise 3\n",
    "\n",
    "Now that you have your first deployed app, go back to your IDE and continue working on the code for your calculator:\n",
    "- Extend the functionality of your calculator by enabling the user to do subtraction, multiplication and division on top of addition. \n",
    "- Include a mechanism that prints a warning message when a different operation is added to the text field.\n",
    "\n",
    "*(To update the deployed website later, you can simply replace the files you have uploaded to pythonanywhere at the end!)*"
   ]
  },
  {
   "cell_type": "markdown",
   "metadata": {},
   "source": [
    "### Exercise 4\n",
    "\n",
    "Now turn the text field that we have been using to type in the operation into a drop-down menu. Use the `<select>` form element from this [resource](https://www.w3schools.com/html/html_form_elements.asp).\n",
    "\n",
    "*Hint: remember that the values of the form elements get sent to the server according to the `name` tag, so make sure that you set `name=\"operation\"` in the HTML code for the drop-down.*"
   ]
  },
  {
   "cell_type": "markdown",
   "metadata": {
    "collapsed": false,
    "jupyter": {
     "outputs_hidden": false
    },
    "pycharm": {
     "name": "#%% md\n"
    }
   },
   "source": [
    "### Exercise 5\n",
    "\n",
    "What kinds of problems could you run into with this calculator? Improve your code to deal with these problems by using the exception handling functionality described [here](https://www.w3schools.com/python/python_try_except.asp) (try the examples on this tutorial first, to understand how you can handle errors in Python).\n",
    "\n",
    "*Hint: Go through the lines of code in your `calculate` function and think about the types of thing that might go wrong. One of the problems is related to the type of the variable a user might put in the calculator, another is related to one of the operations.*"
   ]
  },
  {
   "cell_type": "markdown",
   "metadata": {
    "collapsed": false,
    "jupyter": {
     "outputs_hidden": false
    },
    "pycharm": {
     "name": "#%% md\n"
    }
   },
   "source": [
    "### Exercise 6\n",
    "\n",
    "Now do some 'refactoring' of your code (code refactoring is when you restructure your code in a way that does not change the external behaviour but readability, scalability, and helps to prevent bugs):\n",
    "\n",
    "* create a new python module called `helper.py` in your root directory into which you will write functions that you can then import into your main app module\n",
    "* in `helper.py`, create a function which will perform your calculations, that takes as its input `value1`, `value2`, and `operation` and returns the calculated result\n",
    "* import this function into the `flask_app.py` module, by writing `from helper import ...` where you replace `...` with your function name\n",
    "* in the `calculate` function in `flask_app.py`, you can now call this function to get the result of the calculation\n",
    "* EXTENSION: write another helper function in `helper.py` that handles the conversion of the input to type `float` and call this function in `flask_app.py` *before* calling the function that performs the operation. Wrap this function in a separate exception handler."
   ]
  },
  {
   "cell_type": "markdown",
   "metadata": {
    "collapsed": false,
    "pycharm": {
     "name": "#%% md\n"
    }
   },
   "source": [
    "### Exercise 7\n",
    "\n",
    "Try calculating $4.9 - 4.845$ with your calculator. What do you see? Include something in your code that will return the value that you would expect."
   ]
  }
 ],
 "metadata": {
  "kernelspec": {
   "display_name": "Python 3 (ipykernel)",
   "language": "python",
   "name": "python3"
  },
  "language_info": {
   "codemirror_mode": {
    "name": "ipython",
    "version": 3
   },
   "file_extension": ".py",
   "mimetype": "text/x-python",
   "name": "python",
   "nbconvert_exporter": "python",
   "pygments_lexer": "ipython3",
   "version": "3.11.7"
  }
 },
 "nbformat": 4,
 "nbformat_minor": 4
}

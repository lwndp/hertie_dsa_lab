{
 "cells": [
  {
   "cell_type": "markdown",
   "metadata": {
    "collapsed": true,
    "jupyter": {
     "outputs_hidden": true
    },
    "pycharm": {
     "name": "#%% md\n"
    }
   },
   "source": [
    "# Lab 10\n",
    "## Data Structures & Algorithms"
   ]
  },
  {
   "cell_type": "markdown",
   "metadata": {
    "collapsed": false,
    "jupyter": {
     "outputs_hidden": false
    },
    "pycharm": {
     "name": "#%% md\n"
    }
   },
   "source": [
    "## Today\n",
    "\n",
    "* [Refresher on Greedy Algorithms](#greedy)\n",
    "* [1. Interval Scheduling](#1-interval-scheduling)\n",
    "* [2. Interval Partitioning](#2-interval-partitioning)\n",
    "* [3. Dijkstras Algorithm](#3-dijkstras-algorithm)\n",
    "* [Exercises](#exercises)"
   ]
  },
  {
   "cell_type": "markdown",
   "metadata": {
    "collapsed": false,
    "jupyter": {
     "outputs_hidden": false
    },
    "pycharm": {
     "name": "#%% md\n"
    }
   },
   "source": [
    "## Greedy Algorithms <a class=\"anchor\" id=\"greedy\"></a>\n",
    "\n",
    "There is no single, formal definition of a greedy algorithm, but generally, it refers to an approach that:\n",
    "\n",
    "- **Makes the locally optimal choice at each step** with the hope of finding a globally optimal solution.\n",
    "- **Optimizes a specific measure step-by-step** rather than considering all possible future consequences.\n",
    "\n",
    "#### When Do Greedy Algorithms Work?\n",
    "- In some problems, **greedy choices lead to an optimal solution**, and we can mathematically prove their correctness.\n",
    "- In other cases, greedy algorithms **only find an approximate solution**, as they optimize locally but may miss the globally optimal path.\n"
   ]
  },
  {
   "cell_type": "markdown",
   "metadata": {},
   "source": [
    "# Examples <a class=\"anchor\" id=\"examples\"></a>\n",
    "\n",
    "## 1. Interval Scheduling\n",
    "\n",
    "**Problem Statement**\n",
    "\n",
    "Given a set of time-based requests, schedule them in a way that:\n",
    "1. **No two requests overlap** in time.\n",
    "2. **The maximum number of requests are scheduled**, rejecting the ones that do not fit.\n",
    "\n",
    "**General Idea**\n",
    "1. Start by selecting the **first request** to schedule.\n",
    "2. Reject all requests that are **incompatible** with this selection.\n",
    "3. Among the remaining compatible requests, select the next one based on a **simple rule** (which must be carefully chosen).\n",
    "\n",
    "**Algorithm**\n",
    "1. **Sort the requests** in ascending order of their **finishing times**.\n",
    "2. Select the first request that finishes the earliest—this ensures that the resource is freed as soon as possible.\n",
    "3. Iterate through the sorted list and **select the first compatible request** as the next one.\n",
    "4. Repeat until no more requests can be scheduled.\n",
    "\n",
    "<div>\n",
    "   <img src=\"images/screenshot_greedy_interval_scheduling2.png\" width=\"500px\">\n",
    "</div>\n",
    "\n",
    "**Correctness & Complexity**\n",
    "- As shown in the lecture, it can be **proven** that the set of scheduled intervals $ A $ returned by this algorithm is:\n",
    "  - **Compatible** (no two selected intervals overlap).\n",
    "  - **Optimal** (it selects the maximum possible number of non-overlapping intervals).\n",
    "- **Time Complexity:**  \n",
    "  - **Sorting the requests** by finishing time takes **$ O(n \\log n) $**.\n",
    "  - **Iterating** through the list to select compatible requests takes **$ O(n) $**.\n",
    "  - **Total runtime: $ O(n \\log n) $**."
   ]
  },
  {
   "cell_type": "code",
   "execution_count": 48,
   "metadata": {},
   "outputs": [],
   "source": [
    "def interval_scheduling(start_times, finish_times):\n",
    "    \"\"\"\n",
    "    Finds a maximal set of non-overlapping intervals based on their start and finish times.\n",
    "    \n",
    "    Parameters:\n",
    "    start_times (list): List of start times for each interval.\n",
    "    finish_times (list): List of finish times for each interval.\n",
    "    \n",
    "    Returns:\n",
    "    set: A set containing the indices of the selected non-overlapping intervals.\n",
    "    \"\"\"\n",
    "    # Create a list of indices for the intervals\n",
    "    index = list(range(len(start_times)))\n",
    "    \n",
    "    # Sort the indices based on the finish times of the intervals\n",
    "    index.sort(key=lambda i: finish_times[i])\n",
    " \n",
    "    # Initialize an empty list to store the indices of the maximal set of intervals\n",
    "    maximal_set = []\n",
    "    \n",
    "    # Initialize the previous finish time\n",
    "    prev_finish_time = 0\n",
    "    \n",
    "    # Iterate through the sorted indices\n",
    "    for i in index:\n",
    "        # Check if the current interval can be added to the maximal set\n",
    "        if start_times[i] >= prev_finish_time:\n",
    "            # Add the index of the current interval to the maximal set\n",
    "            maximal_set.append(i)\n",
    "            # Update the previous finish time\n",
    "            prev_finish_time = finish_times[i]\n",
    " \n",
    "    return maximal_set"
   ]
  },
  {
   "cell_type": "code",
   "execution_count": 49,
   "metadata": {},
   "outputs": [
    {
     "name": "stdout",
     "output_type": "stream",
     "text": [
      "[2, 1, 3]\n"
     ]
    }
   ],
   "source": [
    "start_times = [2, 3, 1, 8, 5]\n",
    "finish_times = [4, 6, 3, 9, 7]\n",
    "print(interval_scheduling(start_times=start_times, finish_times=finish_times))"
   ]
  },
  {
   "cell_type": "markdown",
   "metadata": {},
   "source": [
    "## 2. Interval Partitioning\n",
    "\n",
    "**Problem Statement**\n",
    "\n",
    "Given a set of time-based requests and multiple identical resources, schedule **all** requests using the **smallest possible number of resources**.  \n",
    "\n",
    "A common example is scheduling **lectures in classrooms**, where we want to **minimize** the number of rooms needed while ensuring that no two overlapping lectures share the same room.\n",
    "\n",
    "**Algorithm**\n",
    "1. **Sort the requests** in ascending order of their **starting times**.\n",
    "2. For each request $ j $:\n",
    "   - Assign it a **label (resource number)**.\n",
    "   - Ensure that this label has **not been used** by any other request $ i $ that **overlaps** with $ j $.\n",
    "3. Continue assigning resources while keeping the total number of resources used as low as possible.\n",
    "\n",
    "<div>\n",
    "   <img src=\"images/screenshot_greedy_interval_partitioning.png\" width=\"500px\">\n",
    "</div>\n",
    "\n",
    "**Correctness & Complexity**\n",
    "- It can be proven that this greedy algorithm schedules all requests using at most **$ d $ resources**, where:\n",
    "  - $ d $ is the **depth of the set of intervals** (i.e., the maximum number of overlapping requests at any point in time).\n",
    "- **Time Complexity:**  \n",
    "  - **Sorting the requests** by start time takes **$ O(n \\log n) $**.\n",
    "  - **Iterating** through the requests to assign labels takes **$ O(n) $**.\n",
    "  - **Total runtime: $ O(n \\log n) $**."
   ]
  },
  {
   "cell_type": "markdown",
   "metadata": {},
   "source": [
    "## 3. Dijkstra's Algorithm\n",
    "\n",
    "**Problem Statement**\n",
    "\n",
    "Find the **shortest paths** from a given **starting node** $ s $ to **all other nodes** in a weighted graph with **non-negative edge weights**.\n",
    "\n",
    "**Key Idea**\n",
    "- Dijkstra's algorithm is essentially a **continuous version of breadth-first search (BFS)**, but instead of exploring in layers, it expands nodes in the order of **their shortest known distance from $ s $**.\n",
    "- It maintains a **priority queue** to always expand the **closest** unvisited node next.\n",
    "- Intuition: \n",
    "   1. maintain a **set of explored nodes** about which we know the shortest paths from source to periphery, \n",
    "   2. repeatedly expand that set by one node (i.e. the shortest edge between explored and unexplored). How?\n",
    "      - this is key role of the priority queue: it is a dynamic set of edges between the explored and unexplored; at each step we just pop out the shortest of that ever-changing set.\n",
    "   3. Repeat (i.e. keep adding the next shortest edge )\n",
    "- Essentially this is continuous BFS: whereaas before we had levels, here each level set is just 1 node, because distances are unique.\n",
    "\n",
    "<div>\n",
    "   <img src=\"images/screenshot_dijkstra.png\" width=\"400px\">\n",
    "</div>\n",
    "\n",
    "\n",
    "**Time Complexity**\n",
    "- Using a **binary heap (priority queue)**, the algorithm runs in **$ O(m \\log n) $**, where:\n",
    "  - $ n $ is the number of **nodes**.\n",
    "  - $ m $ is the number of **edges**.\n",
    "  - The $ \\log n $ factor comes from efficiently updating the priority queue.\n",
    "\n",
    "---\n",
    "\n",
    "### A Detailed Look at Dijkstra's Algorith\n",
    "\n",
    "**1. Initialization**\n",
    "- $ v $ represents all nodes in the graph,\n",
    "- $ s $ represents the source node,\n",
    "- We maintain a **distance function** $ \\pi[v] $, where:\n",
    "  - $ \\pi[v] = \\infty $ for all $ v \\neq s $ (indicating that the shortest path from $ s $ to $ v $ is unknown initially).\n",
    "  - $ \\pi[s] = 0 $, since the shortest distance from $ s $ to itself is always 0.\n",
    "- $S$ is the set of all explored nodes,\n",
    "\n",
    "**2. Using the Priority Queue**\n",
    "- Store all **unexplored nodes** $ v \\notin S $ in a **priority queue** (min-heap).\n",
    "- Priority for each node is given by its current shortest known distance $ \\pi[v] $, meaning:\n",
    "  - the **node at the front of the heap** is the one with:\n",
    "    - the **shortest known** distance to the source $ s $.\n",
    "    - it **has been discovered** but **not yet fully explored**.\n",
    "- The **priority queue always selects the next \"best\" node** for processing\n",
    "\n",
    "💡 **Key Insight:**  \n",
    "The priority queue helps ensure that **we always expand the most promising node first**—the one with the smallest known distance.\n",
    "\n",
    "**3. Updating $ \\pi[v] $ (Relaxation Step)**\n",
    "- when a **new node $ u $** is added to $ S $ (i.e., it has been fully explored):\n",
    "  - we check **all outgoing edges** $ e = (u, v) $ (edges connecting $ u $ to unexplored nodes).\n",
    "  - for each such edge, we calculate:\n",
    "    $$\n",
    "    \\text{New candidate distance: } \\pi[u] + l_{uv}\n",
    "    $$\n",
    "  - if this new path offers a **shorter distance** than our current best estimate $ \\pi[v] $, we update:\n",
    "    $$\n",
    "    \\pi[v] = \\pi[u] + l_{uv}\n",
    "    $$\n",
    "  - the **priority queue is updated** via the `Decrease-key` operation to reflect this new, lower distance.\n",
    "\n",
    "💡 **Why does this work?**  \n",
    "- Since we **always explore the smallest $ \\pi[v] $ first**, we guarantee that once a node $ v $ is processed, we have found the true shortest path to it.\n",
    "\n",
    "**In sum**\n",
    "1. **Start with the source $ s $**, initializing $ \\pi[s] = 0 $ and all others as $ \\infty $.\n",
    "2. **Use a priority queue** to always select the next closest node.\n",
    "3. **For each newly processed node** $ u $, update $ \\pi[v] $ for its neighbors and push updated distances into the priority queue.\n",
    "4. **Repeat until all reachable nodes are processed**, ensuring that each node gets the shortest path from $ s $.\n",
    "\n",
    "\n",
    "---\n",
    "\n",
    "### Python Implementation of Dijkstra’s Algorithm\n",
    "To efficiently implement Dijkstra’s algorithm, we use the `heapq` library, which provides a **min-heap** (priority queue).  \n",
    "\n",
    "To satisfy the **min-heap property**: \n",
    "- The smallest element must move to the front.\n",
    "- The heap is not necessarily a fully sorted list; it only guarantees that the smallest element is always at index 0.\n",
    "\n",
    "Before diving into the full implementation, here’s a short introduction on how to use `heapq`, as described in this [guide](https://www.geeksforgeeks.org/heap-queue-or-heapq-in-python/).\n"
   ]
  },
  {
   "cell_type": "code",
   "execution_count": 64,
   "metadata": {},
   "outputs": [
    {
     "name": "stdout",
     "output_type": "stream",
     "text": [
      "[5, 7, 9, 1, 3]\n",
      "[1, 3, 9, 7, 5]\n",
      "[1, 3, 4, 7, 5, 9]\n",
      "1\n",
      "[3, 5, 4, 7, 9]\n"
     ]
    }
   ],
   "source": [
    "import heapq\n",
    " \n",
    "# initializing list\n",
    "li = [5, 7, 9, 1, 3]\n",
    "print(li)\n",
    " \n",
    "# using heapify to convert list into heap\n",
    "heapq.heapify(li)\n",
    "print(li)\n",
    " \n",
    "# using heappush() to push elements into heap\n",
    "heapq.heappush(li, 4)\n",
    "print(li)\n",
    " \n",
    "# using heappop() to pop highest priority element\n",
    "el = heapq.heappop(li)\n",
    "print(el)\n",
    "print(li)"
   ]
  },
  {
   "cell_type": "markdown",
   "metadata": {},
   "source": [
    "The following implementation is borrowed from this [website](https://bradfieldcs.com/algos/graphs/dijkstras-algorithm/), which is also a really useful resource."
   ]
  },
  {
   "cell_type": "code",
   "execution_count": 65,
   "metadata": {},
   "outputs": [],
   "source": [
    "def dijkstra_algorithm(graph, starting_vertex):\n",
    "    \"\"\"\n",
    "    Apply Dijkstra's algorithm to find the shortest paths from a starting vertex to all other vertices.\n",
    "\n",
    "    Parameters:\n",
    "    - graph (dict): A dictionary representing the graph where keys are vertices and values are dictionaries \n",
    "                    containing neighbors as keys and edge weights as values.\n",
    "    - starting_vertex: The vertex from which to start the search.\n",
    "\n",
    "    Returns:\n",
    "    - distances (dict): A dictionary containing the shortest distances from the starting_vertex to all other vertices.\n",
    "                       Keys are vertices, and values are the shortest distances from the starting_vertex to each vertex.\n",
    "    \"\"\"\n",
    "    # using infinity at initialisation ensures that any initially discovered distance will be considered smaller\n",
    "    distances = {vertex: float('infinity') for vertex in graph} # a dict w/ all distances as infinity\n",
    "    distances[starting_vertex] = 0\n",
    "\n",
    "    pq = [(0, starting_vertex)] # sets up tuple that will be our priority queue (starting vertex & distance)\n",
    "    while len(pq) > 0:\n",
    "        # Pop the vertex with the shortest distance from the priority queue\n",
    "        current_distance, current_vertex = heapq.heappop(pq) \n",
    "        # now, current_distance is the shortest known distance to current_vertex.\n",
    "\n",
    "        # Some nodes may be added to the heap multiple times (if we later find a shorter path to them)\n",
    "        # If the current_distance larger than best-known distance in distances[current_vertex], ignore outdated entry.\n",
    "        if current_distance > distances[current_vertex]:\n",
    "            continue\n",
    "\n",
    "        # Explore neighbors of the current vertex:\n",
    "        # Loop through all neighboring nodes of current_vertex, retrieving corresponding edge weights\n",
    "        for neighbor, weight in graph[current_vertex].items():\n",
    "            distance = current_distance + weight\n",
    "\n",
    "            # Update the distance if a shorter path is found\n",
    "            if distance < distances[neighbor]:\n",
    "                distances[neighbor] = distance\n",
    "                heapq.heappush(pq, (distance, neighbor))\n",
    "\n",
    "    return distances"
   ]
  },
  {
   "cell_type": "code",
   "execution_count": 66,
   "metadata": {},
   "outputs": [
    {
     "name": "stdout",
     "output_type": "stream",
     "text": [
      "{'U': 1, 'V': 2, 'W': 2, 'X': 0, 'Y': 1, 'Z': 2}\n"
     ]
    }
   ],
   "source": [
    "graph = {\n",
    "    'U': {'V': 2, 'W': 5, 'X': 1},\n",
    "    'V': {'U': 2, 'X': 2, 'W': 3},\n",
    "    'W': {'V': 3, 'U': 5, 'X': 3, 'Y': 1, 'Z': 5},\n",
    "    'X': {'U': 1, 'V': 2, 'W': 3, 'Y': 1},\n",
    "    'Y': {'X': 1, 'W': 1, 'Z': 1},\n",
    "    'Z': {'W': 5, 'Y': 1},\n",
    "}\n",
    "print(dijkstra_algorithm(graph, 'X'))"
   ]
  },
  {
   "cell_type": "markdown",
   "metadata": {
    "collapsed": false,
    "jupyter": {
     "outputs_hidden": false
    },
    "pycharm": {
     "name": "#%% md\n"
    }
   },
   "source": [
    "# Exercises <a class=\"anchor\" id=\"exercises\"></a>"
   ]
  },
  {
   "cell_type": "markdown",
   "metadata": {
    "collapsed": false,
    "jupyter": {
     "outputs_hidden": false
    }
   },
   "source": [
    "### Exercise 1\n",
    "\n",
    "Rewrite the interval scheduling algorithm with the following changes:\n",
    "\n",
    "* the function should now take only one argument called `intervals`, containig a list of tuples, where each interval is represented as a tuple of the start and end date (i.e. `intervals = [(start_0, end_0), (start_1, end_0), ..., (start_n, end_n)]`).\n",
    "* update the part where the algorithm sorts according to finishing time so that it works with the new input\n",
    "* the function should return a list of those tuples that have been selected by the algorithm as the non-verlapping ones (rather than indices as in the example)."
   ]
  },
  {
   "cell_type": "markdown",
   "metadata": {},
   "source": [
    "### Solution 1"
   ]
  },
  {
   "cell_type": "code",
   "execution_count": 67,
   "metadata": {},
   "outputs": [],
   "source": [
    "def interval_scheduling2(intervals):\n",
    "    \"\"\"\n",
    "    Solves the interval scheduling problem by selecting non-overlapping intervals with maximum end times.\n",
    "    \n",
    "    Parameters:\n",
    "    intervals (list of tuples): List of intervals, where each interval is represented as a tuple (start, end).\n",
    "    \n",
    "    Returns:\n",
    "    list of tuples: List of selected non-overlapping intervals.\n",
    "    \"\"\"\n",
    "    \n",
    "    # Sort the intervals based on their end times\n",
    "    intervals.sort(key=lambda x: x[1])\n",
    "    \n",
    "    # Initialize an empty list to store the indices of the maximal set of intervals\n",
    "    maximal_set = []\n",
    "    \n",
    "    # Initialize the previous finish time\n",
    "    prev_finish_time = 0\n",
    "    \n",
    "    # Iterate through the sorted intervals\n",
    "    for interval in intervals:\n",
    "        # Check if the current interval's start time is after the end time of the last selected interval\n",
    "        if interval[0] >= prev_finish_time:\n",
    "            # If so, add the current interval to the result list\n",
    "            maximal_set.append(interval)\n",
    "            # Update the end time of the last selected interval\n",
    "            prev_finish_time = interval[1]\n",
    "    \n",
    "    return maximal_set"
   ]
  },
  {
   "cell_type": "code",
   "execution_count": 68,
   "metadata": {},
   "outputs": [
    {
     "name": "stdout",
     "output_type": "stream",
     "text": [
      "[(1, 3), (3, 6), (8, 9)]\n"
     ]
    }
   ],
   "source": [
    "intervals = [(2, 4), (3, 6), (1, 3), (8, 9), (5, 7)]\n",
    "print(interval_scheduling2(intervals))  # Output should be: [(1, 3), (3, 6), (8, 9)]"
   ]
  },
  {
   "cell_type": "markdown",
   "metadata": {
    "collapsed": false,
    "jupyter": {
     "outputs_hidden": false
    }
   },
   "source": [
    "### Exercise 2\n",
    "\n",
    "Modify the Dijkstra algorithm to return not only the shortest distances but also **the paths themselves** from the starting vertex to all other vertices. For the format of this new output, look at the prepared docstring (the commented text just underneath the function name). Hint: Copy the code from the dijkstra algorithm above, and change it accordingly!"
   ]
  },
  {
   "cell_type": "markdown",
   "metadata": {},
   "source": [
    "### Solution 2"
   ]
  },
  {
   "cell_type": "code",
   "execution_count": 69,
   "metadata": {},
   "outputs": [],
   "source": [
    "def dijkstra_algorithm_with_paths(graph, starting_vertex):\n",
    "    \"\"\"\n",
    "    Apply Dijkstra's algorithm to find the shortest paths from a starting vertex to all other vertices.\n",
    "\n",
    "    Parameters:\n",
    "    - graph (dict): A dictionary representing the graph where keys are vertices and values are dictionaries \n",
    "                    containing neighbors as keys and edge weights as values.\n",
    "    - starting_vertex: The vertex from which to start the search.\n",
    "\n",
    "    Returns:\n",
    "    - distances (dict): A dictionary containing the shortest distances from the starting_vertex to all other vertices.\n",
    "                       Keys are vertices, and values are the shortest distances from the starting_vertex to each vertex.\n",
    "    - paths (dict): A dictionary containing the shortest paths from the starting_vertex to all other vertices.\n",
    "                    Keys are vertices, and values are lists representing the shortest path from the starting_vertex\n",
    "                    to each vertex.\n",
    "    \"\"\"\n",
    "    distances = {vertex: float('infinity') for vertex in graph}\n",
    "    distances[starting_vertex] = 0\n",
    "\n",
    "    # Initialize a dictionary to store the paths\n",
    "    paths = {vertex: [] for vertex in graph}\n",
    "    paths[starting_vertex] = [starting_vertex]\n",
    "\n",
    "    pq = [(0, starting_vertex)]\n",
    "    while len(pq) > 0:\n",
    "        current_distance, current_vertex = heapq.heappop(pq)\n",
    "\n",
    "        if current_distance > distances[current_vertex]:\n",
    "            continue\n",
    "\n",
    "        for neighbor, weight in graph[current_vertex].items():\n",
    "            distance = current_distance + weight\n",
    "\n",
    "            if distance < distances[neighbor]:\n",
    "                distances[neighbor] = distance\n",
    "                heapq.heappush(pq, (distance, neighbor))\n",
    "\n",
    "                # Update the path to the neighbor\n",
    "                paths[neighbor] = paths[current_vertex] + [neighbor]\n",
    "\n",
    "    return distances, paths"
   ]
  },
  {
   "cell_type": "code",
   "execution_count": 70,
   "metadata": {},
   "outputs": [
    {
     "name": "stdout",
     "output_type": "stream",
     "text": [
      "({'A': 0, 'B': 2, 'C': 3, 'D': 4}, {'A': ['A'], 'B': ['A', 'B'], 'C': ['A', 'B', 'C'], 'D': ['A', 'B', 'D']})\n",
      "({'A': 0, 'B': 4, 'C': 2, 'D': 5}, {'A': ['A'], 'B': ['A', 'B'], 'C': ['A', 'C'], 'D': ['A', 'C', 'D']})\n"
     ]
    }
   ],
   "source": [
    "graph_example1 = {\n",
    "    'A': {'B': 2, 'C': 5},\n",
    "    'B': {'C': 1, 'D': 2},\n",
    "    'C': {'D': 3},\n",
    "    'D': {}\n",
    "}\n",
    "\n",
    "print(dijkstra_algorithm_with_paths(graph_example1, 'A'))\n",
    "\n",
    "graph_example2 = {\n",
    "    'A': {'B': 4, 'C': 2},\n",
    "    'B': {'C': 5, 'D': 10},\n",
    "    'C': {'D': 3},\n",
    "    'D': {}\n",
    "}\n",
    "\n",
    "print(dijkstra_algorithm_with_paths(graph_example2, 'A'))"
   ]
  },
  {
   "cell_type": "markdown",
   "metadata": {
    "collapsed": false,
    "jupyter": {
     "outputs_hidden": false
    },
    "pycharm": {
     "name": "#%% md\n"
    }
   },
   "source": [
    "### Exercise 3\n",
    "\n",
    "Implement a function to partition a set of intervals into the minimum number of subsets such that no two intervals in the same subset overlap.\n",
    "\n",
    "Hint: You can follow the following steps separately and then put them together in the `interval_partitioning` function in the end:\n",
    "\n",
    "1. **Sort intervals:** sort the input list of intervals based on their start times.\n",
    "2. **Initialise partitions:** create an empty list of lists of partitions (each partition represents a 'classroom' in the example above and from the lecture and each 'classroom' will have a list of intervals - therefore a list of lists). Initialise the first element of the first partition with the first interval (so to start with, you're only adding the first lecture to the first classroom)\n",
    "3. **Place intervals:** write a for loop, that loops through all remaining intervals (other than the first one, which you already added to the first partition in `partitions`) and checks whether it can be added to any of the partitions ('classrooms') by creating a nested loop through existing partitions. Check with an if clause if the interval fits into the current partition (if the end time of the last interval in the partition is not later than the start time of the current interval for which you are checking). If the interval fits, append the interval to the current partition, break the If clause and flag somehow (with a flagging variable) that the interval has been `placed`.\n",
    "5. **Create new partitions:** if the interval hasn't been placed after looping through all the lists in `partitions`, create a new partition by appending a new list (only consisting of the current interval) to the `partitions` list of lists. "
   ]
  },
  {
   "cell_type": "markdown",
   "metadata": {},
   "source": [
    "### Solution 3"
   ]
  },
  {
   "cell_type": "code",
   "execution_count": 71,
   "metadata": {},
   "outputs": [],
   "source": [
    "def interval_partitioning(intervals):\n",
    "    \"\"\"\n",
    "    Implement the interval partitioning algorithm to partition a set of intervals into the minimum number of subsets \n",
    "    such that no two intervals in the same subset overlap.\n",
    "    \n",
    "    Parameters:\n",
    "    - intervals (list of tuples): A list of intervals represented as tuples (start, end).\n",
    "    \n",
    "    Returns:\n",
    "    - partitions (list of lists): A list of partitions, where each partition is a list of intervals.\n",
    "    \"\"\"\n",
    "    intervals.sort(key=lambda x: x[0])  # Sort intervals by start time\n",
    "    partitions = [[intervals[0]]]  # Initialize first partition with the first interval\n",
    "    \n",
    "    for interval in intervals[1:]:\n",
    "        placed = False\n",
    "        for partition in partitions:\n",
    "            if interval[0] >= partition[-1][1]:  # If interval can be placed in the current partition\n",
    "                partition.append(interval)\n",
    "                placed = True\n",
    "                break\n",
    "        if not placed:  # If interval cannot be placed in any existing partition, create a new partition\n",
    "            partitions.append([interval])\n",
    "    \n",
    "    return partitions\n"
   ]
  },
  {
   "cell_type": "code",
   "execution_count": 90,
   "metadata": {},
   "outputs": [
    {
     "name": "stdout",
     "output_type": "stream",
     "text": [
      "[[(1, 3), (3, 5), (6, 8)], [(2, 4)]]\n",
      "[[(1, 5), (7, 10)], [(2, 6)], [(4, 8)]]\n",
      "[[(2, 6), (7, 10)], [(4, 8)], [(1, 11)]]\n"
     ]
    }
   ],
   "source": [
    "intervals1 = [(1, 3), (2, 4), (3, 5), (6, 8)]\n",
    "print(interval_partitioning(intervals1))\n",
    "\n",
    "intervals2 = [(1, 5), (2, 6), (4, 8), (7, 10)]\n",
    "print(interval_partitioning(intervals2))\n",
    "\n",
    "intervals3 = [(1, 11), (2, 6), (4, 8), (7, 10)]\n",
    "print(interval_partitioning(intervals3))"
   ]
  },
  {
   "cell_type": "markdown",
   "metadata": {
    "jp-MarkdownHeadingCollapsed": true
   },
   "source": [
    "### Exercise 4\n",
    "\n",
    "Modify the interval partitioning algorithm to return not only the partitions but also the maximum number of intervals in any partition."
   ]
  },
  {
   "cell_type": "markdown",
   "metadata": {},
   "source": [
    "### Solution 4"
   ]
  },
  {
   "cell_type": "code",
   "execution_count": 91,
   "metadata": {},
   "outputs": [],
   "source": [
    "def interval_partitioning_with_max_intervals(intervals):\n",
    "    \"\"\"\n",
    "    Implement the interval partitioning algorithm to partition a set of intervals into the minimum number of subsets \n",
    "    such that no two intervals in the same subset overlap.\n",
    "\n",
    "    Parameters:\n",
    "    - intervals (list of tuples): A list of intervals represented as tuples (start, end).\n",
    "\n",
    "    Returns:\n",
    "    - partitions (list of lists): A list of partitions, where each partition is a list of intervals.\n",
    "    - max_intervals (int): The maximum number of intervals in any partition.\n",
    "    \"\"\"\n",
    "    intervals.sort(key=lambda x: x[0])  # Sort intervals by start time\n",
    "    partitions = [[intervals[0]]]  # Initialize first partition with the first interval\n",
    "    max_intervals = 1  # Initialize max_intervals to 1\n",
    "\n",
    "    for interval in intervals[1:]:\n",
    "        placed = False\n",
    "        for partition in partitions:\n",
    "            if interval[0] >= partition[-1][1]:  # If interval can be placed in the current partition\n",
    "                partition.append(interval)\n",
    "                placed = True\n",
    "                max_intervals = max(max_intervals, len(partition))  # Update max_intervals if necessary\n",
    "                break\n",
    "        if not placed:  # If interval cannot be placed in any existing partition, create a new partition\n",
    "            partitions.append([interval])\n",
    "            max_intervals = max(max_intervals, 1)  # New partition only contains one interval, hence max_intervals is 1\n",
    "\n",
    "    return partitions, max_intervals"
   ]
  },
  {
   "cell_type": "code",
   "execution_count": 93,
   "metadata": {},
   "outputs": [
    {
     "name": "stdout",
     "output_type": "stream",
     "text": [
      "([[(1, 3), (3, 5), (6, 8)], [(2, 4)]], 3)\n",
      "([[(1, 5), (7, 10)], [(2, 6)], [(4, 8)]], 2)\n",
      "([[(1, 11)], [(2, 6), (7, 10)], [(4, 8)]], 2)\n"
     ]
    }
   ],
   "source": [
    "intervals1 = [(1, 3), (2, 4), (3, 5), (6, 8)]\n",
    "print(interval_partitioning_with_max_intervals(intervals1))\n",
    "\n",
    "intervals2 = [(1, 5), (2, 6), (4, 8), (7, 10)]\n",
    "print(interval_partitioning_with_max_intervals(intervals2))\n",
    "\n",
    "intervals3 = [(1, 11), (2, 6), (4, 8), (7, 10)]\n",
    "print(interval_partitioning_with_max_intervals(intervals3))"
   ]
  },
  {
   "cell_type": "markdown",
   "metadata": {
    "collapsed": false,
    "jupyter": {
     "outputs_hidden": false
    },
    "pycharm": {
     "name": "#%% md\n"
    }
   },
   "source": [
    "### Exercise 5\n",
    "\n",
    "Implement a function to find the minimum spanning tree (MST) of a connected, undirected graph using Prim's algorithm, as you saw in the lectures. As a refresher, the algorithm works as follows: \n",
    "\n",
    "1. Choose a random vertex as the starting point, and include it as the first vertex in the MST.\n",
    "2. Compare the edges going out from the MST. Choose the edge with the lowest weight that connects a vertex among the MST vertices to a vertex outside the MST.\n",
    "3. Add that edge and vertex to the MST.\n",
    "4. Keep doing step 2 and 3 until all vertices belong to the MST.\n",
    "\n",
    "Hint: You can follow the following steps separately and then put them together in the `prim_algorithm` function in the end:\n",
    "\n",
    "1. **Initialise minimum spanning tree:** Create an empty list to store the edges forming the minimum spanning tree.\n",
    "2. **Initialise visited set:** Create an empty set to keep track of visited vertices (an empty set is initialised by `set()`). Then add the starting vertex to the visited set to mark it as visited.\n",
    "3. **Initialise priority queue:** Create a priority queue (heap, using the heapq package) to store edges incident to visited vertices. Initialise the priority queue with edges incident to the starting vertex. In practice, do this by creating a list of tuples (`pq = [(weight1, starting_vertex, neighbour1),(weight2, starting_vertex, neighbour2), ...]` first, and then use `heapq.heapify(pq)` to turn it into a priority queue.\n",
    "4. **Explore edges:** Use a while loop to iterate until the priority queue is empty. Inside the loop, pop the edge with the minimum weight from the priority queue (using `heapq.heappop(pq)`)\n",
    "5. **Check visited status:** Check if the destination vertex of the popped edge is already visited. If not visited:\n",
    "   - Mark the destination vertex as visited.\n",
    "   - Add the edge to the minimum spanning tree.\n",
    "   - Explore edges incident to the destination vertex.\n",
    "   - Add unvisited incident edges to the priority queue.\n",
    "6. **Return minimum spanning tree:** After visiting all vertices, return the list of edges forming the minimum spanning tree."
   ]
  },
  {
   "cell_type": "markdown",
   "metadata": {},
   "source": [
    "### Solution 5"
   ]
  },
  {
   "cell_type": "code",
   "execution_count": 81,
   "metadata": {},
   "outputs": [],
   "source": [
    "def prim_algorithm(graph, starting_vertex):\n",
    "    \"\"\"\n",
    "    Implemented Prim's algorithm to find the minimum spanning tree of a connected, undirected graph.\n",
    "\n",
    "    Parameters:\n",
    "    - graph (dict): A dictionary representing the graph where keys are vertices and values are dictionaries \n",
    "                    containing neighbors as keys and edge weights as values.\n",
    "    - starting_vertex: The vertex from which to start the search.\n",
    "\n",
    "    Returns:\n",
    "    - min_spanning_tree (list of tuples): A list of edges forming the minimum spanning tree.\n",
    "    \"\"\"\n",
    "    min_spanning_tree = [] \n",
    "    visited = set()  \n",
    "    visited.add(starting_vertex)  \n",
    "    pq = [(weight, starting_vertex, neighbor) for neighbor, weight in graph[starting_vertex].items()] \n",
    "    heapq.heapify(pq)\n",
    "    \n",
    "    while pq:\n",
    "        weight, u, v = heapq.heappop(pq)  # Pop the edge with the minimum weight\n",
    "        if v not in visited:  # If the destination vertex is not visited\n",
    "            visited.add(v)  # Mark the destination vertex as visited\n",
    "            min_spanning_tree.append((u, v, weight))  # Add the edge to the minimum spanning tree\n",
    "            for neighbor, weight in graph[v].items():  # Add edges incident to the destination vertex to the priority queue\n",
    "                if neighbor not in visited:\n",
    "                    heapq.heappush(pq, (weight, v, neighbor))\n",
    "    \n",
    "    return min_spanning_tree"
   ]
  },
  {
   "cell_type": "code",
   "execution_count": 82,
   "metadata": {},
   "outputs": [
    {
     "name": "stdout",
     "output_type": "stream",
     "text": [
      "[('A', 'C', 1), ('A', 'B', 2), ('B', 'D', 1)]\n",
      "[('A', 'B', 4), ('B', 'C', 2), ('B', 'D', 5)]\n"
     ]
    }
   ],
   "source": [
    "graph1 = {\n",
    "    'A': {'B': 2, 'C': 1},\n",
    "    'B': {'A': 2, 'C': 2, 'D': 1},\n",
    "    'C': {'A': 1, 'B': 2, 'D': 2},\n",
    "    'D': {'B': 1, 'C': 2}\n",
    "}\n",
    "print(prim_algorithm(graph1, 'A'))\n",
    "\n",
    "graph2 = {\n",
    "    'A': {'B': 4, 'C': 8},\n",
    "    'B': {'A': 4, 'C': 2, 'D': 5},\n",
    "    'C': {'A': 8, 'B': 2, 'D': 5},\n",
    "    'D': {'B': 5, 'C': 5}\n",
    "}\n",
    "print(prim_algorithm(graph2, 'A'))"
   ]
  }
 ],
 "metadata": {
  "kernelspec": {
   "display_name": "Python 3 (ipykernel)",
   "language": "python",
   "name": "python3"
  },
  "language_info": {
   "codemirror_mode": {
    "name": "ipython",
    "version": 3
   },
   "file_extension": ".py",
   "mimetype": "text/x-python",
   "name": "python",
   "nbconvert_exporter": "python",
   "pygments_lexer": "ipython3",
   "version": "3.11.7"
  }
 },
 "nbformat": 4,
 "nbformat_minor": 4
}

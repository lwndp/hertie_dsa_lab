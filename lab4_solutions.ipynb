{
 "cells": [
  {
   "cell_type": "markdown",
   "id": "8b3786fa",
   "metadata": {},
   "source": [
    "# Lab 4\n",
    "## Data Structures & Algorithms"
   ]
  },
  {
   "cell_type": "markdown",
   "id": "02e0530d",
   "metadata": {},
   "source": [
    "## Today's Topics\n",
    "\n",
    "* Refresher on Programming Paradigms\n",
    "* Classes in Python\n",
    "* Python modules and packages\n",
    "* Testing crash course"
   ]
  },
  {
   "cell_type": "markdown",
   "id": "e106b5a9",
   "metadata": {},
   "source": [
    "# Programming Paradigms\n",
    "\n",
    "### Declarative Programming\n",
    "- **Definition**: \n",
    "  - Focuses on describing what should be accomplished without specifying how it should be done. \n",
    "  - Rather than writing instructions to be executed step-by-step, you define what you want done, and the underlying system or language runtime determines how to accomplish it.\n",
    "  - Emphasises on expressing the *logic* of a computation without describing its *control flow*.\n",
    "- **Characteristics**:\n",
    "  - Programs consist of *declarations* rather than *statements*.\n",
    "  - Focus on *what* rather than *how*.\n",
    "  - Logic and result are declared.\n",
    "  - Control flow is implicit and handled by the language or tool.\n",
    "- **Examples**: \n",
    "  - SQL: When writing a SQL query, you simply state the data you want returned—such as “all rows where age > 30”—and the database figures out how to retrieve it.\n",
    "  - HTML: Defining the structure of a webpage through tags. You describe the page layout and elements (like headings, paragraphs, or tables) rather than writing procedural instructions to render them.\n",
    "  - Regular Expressions: Patterns used to describe and match sets of strings without specifying how the pattern-matching algorithm works.\n",
    "\n",
    "### Imperative Programming\n",
    "- **Definition**: \n",
    "  - Involves providing a sequence of explicit instructions to the computer on how to perform a task step by step. \n",
    "  - Each instruction directly modifies the *program state*, guiding the process toward the desired outcome.\n",
    "- **Characteristics**:\n",
    "  - Programs are composed of statements and control flow constructs like loops and conditionals, that change a program's state.\n",
    "  - Focus on how to achieve the result; emphasises on describing step-by-step procedures.\n",
    "  - State changes are explicit and frequent.\n",
    "- **Examples**: \n",
    "  - C, Python: A loop that calculates the sum of an array. You write each step: initialize a counter, iterate through each element, add it to a total, and finally return the total.\n",
    "  - Java: Creating objects, calling methods, and updating fields in a specific order to achieve a result.\n",
    "\n",
    "### Functional Programming\n",
    "- **Definition**: \n",
    "  - A paradigm where programs are composed of functions in the mathematical sense. \n",
    "  - Avoids mutable data and side effects, instead emphasizing the evaluation of expressions and function composition.\n",
    "- **Characteristics**:\n",
    "  - Functions are first-class citizens: they can be assigned to variables, passed as arguments, and returned by other functions.\n",
    "  - No side effects: Calling a function with the same arguments always returns the same result, and no external state is altered.\n",
    "  - Emphasis on recursion and higher-order functions.\n",
    "- **Examples**: Haskell, Lisp, Erlang\n",
    "\n",
    "### Object-Oriented Programming (OOP)\n",
    "- **Definition**: \n",
    "  - Organises software design around objects and data rather than actions and logic.\n",
    "  - Specifically, structures programs around objects, which combine data (attributes) and behavior (methods). \n",
    "  - The focus is on defining how objects interact with one another rather than just specifying procedures.\n",
    "- **Characteristics**:\n",
    "  - *Encapsulation*: Objects encapsulate data and behavior; this keeps data and methods that operate on it bundled together.\n",
    "    - Data is stored within objects, and methods define how this data can be accessed or modified.\n",
    "  - *Inheritance*: Classes can inherit attributes and behavior from other classes.\n",
    "    - A Truck class might inherit from Vehicle and add specific attributes like cargo_capacity.\n",
    "  - *Polymorphism*: Objects of different classes can be treated as objects of a common superclass; this enables the same interface to be used for different underlying data types.  \n",
    "    - A single method (e.g., `move()`) can work differently depending on the object (car, bike, or plane) that uses it.\n",
    "- **Examples**: Python, Java, C++\n",
    "\n",
    "\n",
    "### ...how would we characterise R?\n",
    "R leans heavily towards a declarative and functional style for most statistical and data manipulation tasks, but it can support imperative and object-oriented approaches when needed.*\n",
    "  - *Declarative Aspects: you often describe data transformations, statistical operations, or visualizations without defining the underlying control flow explicitly. E.g. lm() to fit a linear model is more about declaring that a model should be built with certain variables, rather than detailing the iterative steps the algorithm must take.*\n",
    "  - *Functional Aspects: functions remain first-class objects, meaning you can pass them as arguments, return them from other functions, and compose them to build complex workflows. E.g. the purrr package.*"
   ]
  },
  {
   "cell_type": "markdown",
   "id": "4855ed76",
   "metadata": {},
   "source": [
    "## Classes in Python\n",
    "\n",
    "As you can see in the examples above, Python supports various programming styles, including OOP (through classes and objects)!\n",
    "\n",
    "In Python:\n",
    "- **A class** is a 'blueprint' for creating objects that have certain attributes (data) and methods (behaviours). \n",
    "- **An object** is an instance of a class. \n",
    "- Classes define attributes (data) and methods (functions) that operate on those attributes.\n",
    "\n",
    "### Key Concepts:\n",
    "\n",
    "* **Class**: A blueprint for creating objects. It defines attributes and methods common to all objects of the class.\n",
    "* **Object**: An instance of a class. Objects have attributes and methods inherited from the class.\n",
    "* **__init__()**: A special method called the constructor or initializer. It is automatically called when a new instance of the class is created. It initializes the object's attributes.\n",
    "* **Class Attributes**: Variables that are shared by all instances of the class. They are defined outside any method in the class.\n",
    "* **Instance Attributes**: Variables that are unique to each instance of the class. They are defined within the __init__() method.\n",
    "* **Methods**: Functions defined within a class. They operate on the object's attributes and represent the object's behavior.\n",
    "* **self**: A reference to the current instance of the class. It is used to access instance variables and methods within the class."
   ]
  },
  {
   "cell_type": "markdown",
   "id": "2c2fb941",
   "metadata": {},
   "source": [
    "### Example: Creating a Class"
   ]
  },
  {
   "cell_type": "code",
   "execution_count": 1,
   "id": "c38f395b",
   "metadata": {},
   "outputs": [],
   "source": [
    "# Define a simple class representing a Bike\n",
    "class Bike: # the class: serves as the blueprint for creating bike objects\n",
    "    number_wheels = '2' # class attribute: shared by all Bike instances. doesn’t change unless modified at the class level\n",
    "    def __init__(self, brand, model, year):  # constructor method initializes instance attributes whenever a new object is created\n",
    "        self.brand = brand\n",
    "        self.model = model # instance attributes: unique to each object \n",
    "        self.year = year \n",
    "        self.odometer_reading = 0  # default attribute\n",
    "        \n",
    "    def get_descriptive_name(self): # methods - functions that define behaviour for `bike` objets. Allow you to to retrieve / modify the state of the object\n",
    "        return f'{self.year} {self.brand} {self.model}' # within each method, self is used to access instance-specific data\n",
    "    \n",
    "    def read_odometer(self):\n",
    "        return f'This bike has {self.odometer_reading} kilometers on it.'\n",
    "    \n",
    "    def update_odometer(self, mileage):\n",
    "        if mileage >= self.odometer_reading:\n",
    "            self.odometer_reading = mileage\n",
    "        else:\n",
    "            print('You cannot roll back an odometer!')"
   ]
  },
  {
   "cell_type": "markdown",
   "id": "c213c27f",
   "metadata": {},
   "source": [
    "### Example: Creating an Object"
   ]
  },
  {
   "cell_type": "code",
   "execution_count": 2,
   "id": "f11d026a",
   "metadata": {},
   "outputs": [],
   "source": [
    "# Create an instance of the Bike class\n",
    "my_bike = Bike('Specialized', 'Tarmac', 2023) # an object (a specifically instantiated class)"
   ]
  },
  {
   "cell_type": "code",
   "execution_count": 3,
   "id": "2efbe88a",
   "metadata": {},
   "outputs": [
    {
     "data": {
      "text/plain": [
       "'2'"
      ]
     },
     "execution_count": 3,
     "metadata": {},
     "output_type": "execute_result"
    }
   ],
   "source": [
    "# Access class attributes\n",
    "my_bike.number_wheels"
   ]
  },
  {
   "cell_type": "code",
   "execution_count": 4,
   "id": "82cdaed0",
   "metadata": {},
   "outputs": [
    {
     "name": "stdout",
     "output_type": "stream",
     "text": [
      "2023 Specialized Tarmac\n"
     ]
    }
   ],
   "source": [
    "# Access instance attributes and call methods\n",
    "print(my_bike.get_descriptive_name())"
   ]
  },
  {
   "cell_type": "code",
   "execution_count": 5,
   "id": "1575c0f7",
   "metadata": {},
   "outputs": [
    {
     "name": "stdout",
     "output_type": "stream",
     "text": [
      "This bike has 0 kilometers on it.\n"
     ]
    }
   ],
   "source": [
    "# Check odometer is at 0\n",
    "print(my_bike.read_odometer())"
   ]
  },
  {
   "cell_type": "code",
   "execution_count": 6,
   "id": "305da2ec",
   "metadata": {},
   "outputs": [],
   "source": [
    "# Update attribute value\n",
    "my_bike.update_odometer(50)"
   ]
  },
  {
   "cell_type": "code",
   "execution_count": 7,
   "id": "50810c1c",
   "metadata": {},
   "outputs": [
    {
     "name": "stdout",
     "output_type": "stream",
     "text": [
      "This bike has 50 kilometers on it.\n"
     ]
    }
   ],
   "source": [
    "print(my_bike.read_odometer())"
   ]
  },
  {
   "cell_type": "markdown",
   "id": "4073570b-2888-49e1-a18d-3c2351feb805",
   "metadata": {},
   "source": [
    "### Example: Extend a class\n",
    "\n",
    "To make a class (*subclass / child class*) inherit from another class (*superclass / parent class*), you need to include the `super().__init__` command in the constructor:"
   ]
  },
  {
   "cell_type": "code",
   "execution_count": 8,
   "id": "01ffdbff-d1b9-43be-8356-189781028a31",
   "metadata": {},
   "outputs": [],
   "source": [
    "# Create a subclass ElectricBike that inherits from Bike\n",
    "class ElectricBike(Bike): # gives ElectricBike access to all the attributes and methods of Bike without redefining them\n",
    "    def __init__(self, brand, model, year, weight): # first init contains placeholders for definiting *all* the instance attributes/methods\n",
    "        super().__init__(brand, model, year) # super() function allows the child class to call the constructor (__init__) of its parent class; ensures these attributes are properly initialized in the same way as in the Bike class\n",
    "        self.weight = weight # this is unique to ElectricBike\n",
    "        \n",
    "    def return_weight(self): # this is also new to ElectricBike\n",
    "        return f'This bike weighs {self.weight} kilograms'"
   ]
  },
  {
   "cell_type": "code",
   "execution_count": 9,
   "id": "232e12af-6f11-4ff4-a78e-e22d86e3abc5",
   "metadata": {},
   "outputs": [],
   "source": [
    "my_ebike = ElectricBike('Cube', 'speedy', 2024, 25)"
   ]
  },
  {
   "cell_type": "code",
   "execution_count": 10,
   "id": "6d6afcbf-0b51-46e3-bdd2-b16a5b507b25",
   "metadata": {},
   "outputs": [
    {
     "name": "stdout",
     "output_type": "stream",
     "text": [
      "This bike weighs 25 kilograms\n"
     ]
    }
   ],
   "source": [
    "print(my_ebike.return_weight())"
   ]
  },
  {
   "cell_type": "markdown",
   "id": "490f43c5-4e4e-448e-ae3e-97b09232ca61",
   "metadata": {
    "jp-MarkdownHeadingCollapsed": true
   },
   "source": [
    "## Modules and packages in Python\n",
    "\n",
    "Last week, I gave a very brief refresher on Python modules (files ending in `.py`) and Jupyter notebooks (files ending in `.ipynb`). Let's have another look at modules and packages (this [introduction](https://realpython.com/python-modules-packages/) on modules and packages is a great resource):\n",
    "\n",
    "\n",
    "## Modules\n",
    "\n",
    "Any code you write in a Python module can be accessed in other places by `import` statement.\n",
    "\n",
    "* *(as long as the module is in the same directory as the script, or subdirectory as a package, or in a directory listed in Python’s sys.path)* \n",
    "\n",
    "* E.g. if you have created two files called `mod1.py` and `mod2.py` in your project, and you want to call a function called `function_one()` from `mod1.py` in `mod2.py`, you do this by writing one of the following at the top of `mod2.py`:\n",
    "\n",
    "    ```python\n",
    "    import mod1 \n",
    "\n",
    "    mod1.function_one('something')\n",
    "    ```\n",
    "    - The entire mod1 module is imported.\n",
    "    - You must use the module name (mod1) as a prefix to access its functions (`mod1.function_one()` or `mod1.fun()`).\n",
    "    - Pros: Avoids naming conflicts and keeps code organized.\n",
    "    - Cons: Slightly more verbose due to the module prefix.\n",
    "\n",
    "    or\n",
    "\n",
    "    ```python\n",
    "    import mod1 as m\n",
    "\n",
    "    m.function_one('something')\n",
    "    ```\n",
    "    - The entire mod1 module is imported but is given the shorter alias `m`.\n",
    "    - You access functions using `m.function_one()` instead of `mod1.function_one()`.\n",
    "\n",
    "    or \n",
    "\n",
    "    ```python\n",
    "    from mod1 import function_one\n",
    "\n",
    "    function_one('something')\n",
    "    ```\n",
    "\n",
    "    - Only the `function_one` function is imported from `mod1`.\n",
    "    - You can call `function_one()` directly without the module prefix.\n",
    "    - Pros: Cleaner syntax when only a few functions are needed.\n",
    "    - Cons: If multiple modules have a function named `function_one`, it can cause naming conflicts.\n",
    "\n",
    "    or \n",
    "\n",
    "    ```python\n",
    "    # not recommended\n",
    "    from mod1 import * \n",
    "\n",
    "    fun('something')\n",
    "    ```\n",
    "    - This imports everything (all public functions, classes, variables) from mod1 directly into the current namespace.\n",
    "    - Functions like `function_one()` and `fun()` can be called without the module prefix.\n",
    "    - Namespace pollution: lose track of where functions and variables come from; debugging and readability take a hit; also hidden imports.\n",
    "    - If two modules have a function_one() function, Python will silently overwrite one without warning.\n",
    "\n",
    "### Modules vs Scripts\n",
    "* It’s a Python convention for organizing code that can be both run as a script and used as a module.\n",
    "    * Any Python module can also be run as a Python script (e.g. by running `python mod1.py` in the command line). \n",
    "\n",
    "    ```python\n",
    "    if (__name__ == '__main__'):\n",
    "    ```\n",
    "\n",
    "* So that Python knows what to do when a `.py` file is being run as either a module or a script, we can add the `if (__name__ == '__main__'):` clause at the end of the file:\n",
    "    - When a Python file is run directly (i.e. in the 'top-level code environment'), the special variable `__name__` is set to `\"__main__\"`, which means any code under if `__name__ == \"__main__\":` will only execute when the script is run directly, not when it is imported.\n",
    "    - everything that should only be run when the `.py` is being treated as a script goes underneath the `if` clause. E.g.:\n",
    "        ```python\n",
    "        def function_one(x):\n",
    "            return f'{x} is fishy'\n",
    "\n",
    "        if __name__ == '__main__':\n",
    "            print(function_one('something'))\n",
    "        ```\n",
    "    - So if the script is run directly, the console output would be `something is fishy`.\n",
    "    - But, if the script is imported, the second block would not be run, so we would simply have access to the function `function_one()`\n",
    "\n",
    "## Packages\n",
    "\n",
    "* Packages are essential when managing a large collection of modules. \n",
    "    - They help you organise your code logically and make it easier to reuse and share with others, whether for personal projects or public distribution.\n",
    "* Creating a Package requires a specific folder structure: \n",
    "\n",
    "    ```bash\n",
    "    package_name/         # Project directory (root)\n",
    "        package_name/     # Package directory\n",
    "            __init__.py   # Initialization file (required)\n",
    "            module1.py    # Module 1\n",
    "            module2.py    # Module 2\n",
    "    ```\n",
    "    - The package directory (which contains the actual `.py` files) must be nested within a project directory.\n",
    "        - The inner folder (package_name/) contains the Python modules and must include an __init__.py file to signal to Python that this directory should be treated as a package.\n",
    "    - `__init__.py:`\n",
    "        - required in the package directory (though it can be empty).\n",
    "        - tells Python that the folder is a package and can also be used to initialise the package or expose specific functions or classes.\n",
    "    - Additional Components in the Project Directory:\n",
    "        - `tests/`: A folder for unit tests to ensure your code works correctly.\n",
    "        - `docs/`: Documentation to explain how the package works and how to use it.\n",
    "        - `setup.py`: A script containing metadata and instructions for building and installing the package. This is essential if you want to distribute your package.\n",
    "        - `README.md`: A file describing the project, typically displayed on repository hosting platforms.\n",
    "    - Sharing packages\n",
    "        - To share your package with others (e.g., by publishing it on PyPI for easy installation via pip), you need to package it properly.\n",
    "        - This [FreeCodeCamp](https://www.freecodecamp.org/news/how-to-create-and-upload-your-first-python-package-to-pypi/) guide provides a beginner-friendly walkthrough on how to create and upload your first Python package.\n",
    "\n",
    "- Example:\n",
    "    ```bash\n",
    "    my_package/              # Project directory (root)\n",
    "    │\n",
    "    ├── my_package/          # Package directory\n",
    "    │   ├── __init__.py      # Makes this a package\n",
    "    │   ├── module1.py       # First module\n",
    "    │   └── module2.py       # Second module\n",
    "    │\n",
    "    ├── tests/               # Folder for tests\n",
    "    │   └── test_module1.py  # Test file for module1\n",
    "    │\n",
    "    ├── setup.py             # Build and installation instructions\n",
    "    ├── README.md            # Project description\n",
    "    └── LICENSE              # License for package usage\n",
    "    ```"
   ]
  },
  {
   "cell_type": "markdown",
   "id": "11f1abb2",
   "metadata": {},
   "source": [
    "# Testing crashcourse\n",
    "\n",
    "* **Testing** is a fundamental part of the software development process. It ensures that code functions as intended and continues to work correctly as the project evolves. \n",
    "    - helps catch bugs early, \n",
    "    - improves code reliability, \n",
    "    - makes future changes safer and more manageable.\n",
    "\n",
    "### Test-driven development (TDD) \n",
    "* TDD is a disciplined software development approach where tests are written *before* the actual code, and then relies on the repetition of a very short development cycle: \n",
    "1. **Write a Failing Test**:\n",
    "    - Create an automated test case that describes a desired feature or improvement.\n",
    "    - This test will fail initially because the feature hasn’t been implemented yet.\n",
    "    - This forces you to clarify the requirements and design before writing the actual code.\n",
    "2. **Write Minimal Code to Pass the Test:**\n",
    "    - Develop the simplest code possible to make the failing test pass.\n",
    "    - Focus on functionality first, without worrying about optimisation or edge cases.\n",
    "3. **Refactor the Code:**\n",
    "    - Clean up the code while keeping all tests passing.\n",
    "    - Improve readability, structure, and performance without changing behavior.\n",
    "\n",
    "* This Red → Green → Refactor cycle repeats for every new feature or bug fix, resulting in cleaner, well-tested code.\n",
    "\n",
    "### Unit tests\n",
    "* Unit Tests focus on testing the smallest parts of your program—typically individual functions or methods—to ensure they work as expected.\n",
    "\n",
    "* They are isolated, meaning they test one \"unit\" of functionality without relying on external systems (e.g., databases or APIs).\n",
    "* Unit tests make debugging easier because they pinpoint exactly where something is broken.\n",
    "* They encourage writing modular and decoupled code that is easier to test and maintain.\n",
    "\n",
    "### Test Runners\n",
    "* Test Runners are packages/tools that automatically discover and execute your tests, reporting which tests pass or fail. They simplify running large test suites and provide clear feedback.\n",
    "\n",
    "* The two most popular test runners in Python are:\n",
    "    1.  `unittest`\n",
    "        - Python's built-in testing framework.\n",
    "    2.  `PyTest` \n",
    "        - A more powerful and flexible third-party testing framework\n",
    "        - Known for its simple syntax, better error reporting, and support for advanced testing features (e.g., fixtures, parameterization).\n",
    "\n",
    "* Here we will focus on `PyTest`. This [tutorial](https://realpython.com/python-testing/) is a great resource for learning about testing."
   ]
  },
  {
   "cell_type": "markdown",
   "id": "e6adacec",
   "metadata": {},
   "source": [
    "### Example: The `assert` statement\n",
    "\n",
    "* The assert statement is used to verify that something is true during the execution of a program. \n",
    "    - If the condition is `False`, Python will raise an `AssertionError`, signaling that something in the program logic has gone wrong.\n",
    "\n",
    "* **Syntax:** The syntax of the assert statement is:\n",
    "    ```python\n",
    "    assert condition, optional_error_message\n",
    "    ```\n",
    "    * If the condition evaluates to `False`, an AssertionError is raised, optionally displaying the specified message.\n",
    "\n",
    "* **Use Case:** The assert statement is primarily used for debugging and testing purposes to check conditions that **should always be true** if the programme is working correctly.\n",
    "    * **Difference from try and except:** Unlike using try and except clauses, which handle exceptions and errors during runtime (i.e. it allows programmes to continue after handling errors), assert statements are used to spot bugs and logic errors during development and testing (i.e. they halt the programme when the assertion fails)."
   ]
  },
  {
   "cell_type": "code",
   "execution_count": 11,
   "id": "cb5a4324",
   "metadata": {},
   "outputs": [],
   "source": [
    "# Example 1: Basic assertion\n",
    "x = 5\n",
    "assert x == 5"
   ]
  },
  {
   "cell_type": "code",
   "execution_count": 12,
   "id": "720d4a98",
   "metadata": {},
   "outputs": [
    {
     "ename": "AssertionError",
     "evalue": "y should be equal to 5",
     "output_type": "error",
     "traceback": [
      "\u001b[0;31m---------------------------------------------------------------------------\u001b[0m",
      "\u001b[0;31mAssertionError\u001b[0m                            Traceback (most recent call last)",
      "Cell \u001b[0;32mIn[12], line 3\u001b[0m\n\u001b[1;32m      1\u001b[0m \u001b[38;5;66;03m# Example 2: Assertion with a message\u001b[39;00m\n\u001b[1;32m      2\u001b[0m y \u001b[38;5;241m=\u001b[39m \u001b[38;5;241m10\u001b[39m\n\u001b[0;32m----> 3\u001b[0m \u001b[38;5;28;01massert\u001b[39;00m y \u001b[38;5;241m==\u001b[39m \u001b[38;5;241m5\u001b[39m, \u001b[38;5;124m\"\u001b[39m\u001b[38;5;124my should be equal to 5\u001b[39m\u001b[38;5;124m\"\u001b[39m\n",
      "\u001b[0;31mAssertionError\u001b[0m: y should be equal to 5"
     ]
    }
   ],
   "source": [
    "# Example 2: Assertion with a message\n",
    "y = 10\n",
    "assert y == 5, \"y should be equal to 5\""
   ]
  },
  {
   "cell_type": "code",
   "execution_count": 13,
   "id": "cdc65124",
   "metadata": {},
   "outputs": [
    {
     "ename": "AssertionError",
     "evalue": "10 should be equal to 6+4",
     "output_type": "error",
     "traceback": [
      "\u001b[0;31m---------------------------------------------------------------------------\u001b[0m",
      "\u001b[0;31mAssertionError\u001b[0m                            Traceback (most recent call last)",
      "Cell \u001b[0;32mIn[13], line 6\u001b[0m\n\u001b[1;32m      3\u001b[0m     \u001b[38;5;28;01mreturn\u001b[39;00m a\u001b[38;5;241m+\u001b[39mb\n\u001b[1;32m      5\u001b[0m \u001b[38;5;28;01massert\u001b[39;00m \u001b[38;5;241m10\u001b[39m \u001b[38;5;241m==\u001b[39m add(\u001b[38;5;241m6\u001b[39m,\u001b[38;5;241m4\u001b[39m), \u001b[38;5;124m'\u001b[39m\u001b[38;5;124m10 should be equal to 6+4\u001b[39m\u001b[38;5;124m'\u001b[39m\n\u001b[0;32m----> 6\u001b[0m \u001b[38;5;28;01massert\u001b[39;00m \u001b[38;5;241m10\u001b[39m \u001b[38;5;241m==\u001b[39m add(\u001b[38;5;241m5\u001b[39m,\u001b[38;5;241m4\u001b[39m), \u001b[38;5;124m'\u001b[39m\u001b[38;5;124m10 should be equal to 6+4\u001b[39m\u001b[38;5;124m'\u001b[39m\n",
      "\u001b[0;31mAssertionError\u001b[0m: 10 should be equal to 6+4"
     ]
    }
   ],
   "source": [
    "# Example 3: Testing a function\n",
    "def add(a,b):\n",
    "    return a+b\n",
    "\n",
    "assert 10 == add(6,4), '10 should be equal to 6+4'\n",
    "assert 10 == add(5,4), '10 should be equal to 6+4'"
   ]
  },
  {
   "cell_type": "markdown",
   "id": "9b76f453",
   "metadata": {},
   "source": [
    "### Example: Testing in Python with pytest"
   ]
  },
  {
   "cell_type": "code",
   "execution_count": 14,
   "id": "d7af521a",
   "metadata": {},
   "outputs": [],
   "source": [
    "# Function to be tested\n",
    "def add(a, b):\n",
    "    return a + b\n",
    "\n",
    "# Test case with detailed error messages\n",
    "def test_add():\n",
    "    assert add(2, 3) == 5, \"Adding 2 and 3 should return 5\"\n",
    "    assert add(-1, 1) == 0, \"Adding -1 and 1 should return 0\"\n",
    "    assert add(-1, -1) == -2, \"Adding -1 and -1 should return -2\"\n",
    "    assert add(0, 0) == 0, \"Adding 0 and 0 should return 0\"\n",
    "    assert add(2.5, 1.5) == 4.0, \"Adding 2.5 and 1.5 should return 4.0\"\n",
    "    assert add('Hello', 'World') == 'HelloWorld', \"Adding 'Hello' and 'World' should return 'HelloWorld'\"\n",
    "    \n",
    "test_add()"
   ]
  },
  {
   "cell_type": "markdown",
   "id": "073da83f",
   "metadata": {},
   "source": [
    "## Exercises"
   ]
  },
  {
   "cell_type": "markdown",
   "id": "e0866de8",
   "metadata": {},
   "source": [
    "### Exercise 1: Classes and Objects\n",
    "Write a Python class `Square` that represents a square. The class should have attributes `side_length` representing the length of a side of the square, and methods `area()` and `perimeter()` to calculate the area and perimeter of the square, respectively."
   ]
  },
  {
   "cell_type": "code",
   "execution_count": 15,
   "id": "ca032f7c",
   "metadata": {},
   "outputs": [],
   "source": [
    "class Square:\n",
    "    def __init__(self, side_length):\n",
    "        self.side_length = side_length\n",
    "    \n",
    "    def area(self):\n",
    "        return self.side_length ** 2\n",
    "    \n",
    "    def perimeter(self):\n",
    "        return 4 * self.side_length"
   ]
  },
  {
   "cell_type": "markdown",
   "id": "85bd65bc",
   "metadata": {},
   "source": [
    "### Exercise 2: Class Attributes and Methods\n",
    "Extend the `Bike` class with a method `ride()` (that takes as an input a `kilometers` variable) that updates the `odometer_reading` attribute by adding the given number of kilometers. Also, add a method `check_bike_type()` that prints the bike type."
   ]
  },
  {
   "cell_type": "code",
   "execution_count": 16,
   "id": "606f1cbd",
   "metadata": {},
   "outputs": [],
   "source": [
    "class Bike:\n",
    "    bike_type = 'Mountain'  # Class attribute\n",
    "    \n",
    "    def __init__(self, brand, model, year):\n",
    "        self.brand = brand\n",
    "        self.model = model\n",
    "        self.year = year\n",
    "        self.odometer_reading = 0\n",
    "        \n",
    "    def get_descriptive_name(self):\n",
    "        return f'{self.year} {self.brand} {self.model}'\n",
    "    \n",
    "    def read_odometer(self):\n",
    "        return f'This bike has {self.odometer_reading} kilometers on it.'\n",
    "    \n",
    "    def update_odometer(self, mileage):\n",
    "        if mileage >= self.odometer_reading:\n",
    "            self.odometer_reading = mileage\n",
    "        else:\n",
    "            print('You cannot roll back an odometer!')\n",
    "    \n",
    "    def ride(self, kilometers):\n",
    "        self.odometer_reading += kilometers\n",
    "    \n",
    "    def check_bike_type(self):\n",
    "        return f'This bike is a {self.bike_type} bike.'"
   ]
  },
  {
   "cell_type": "markdown",
   "id": "086658a4",
   "metadata": {},
   "source": [
    "### Exercise 3: Instance Attributes\n",
    "Add an instance attribute `colour` to the `Bike` class. Write a method `paint()` that updates the `colour` attribute of the bike to the specified colour."
   ]
  },
  {
   "cell_type": "code",
   "execution_count": 17,
   "id": "23a001fd",
   "metadata": {},
   "outputs": [],
   "source": [
    "# Add instance attributes to the Bike class\n",
    "class Bike:\n",
    "    bike_type = 'Mountain'\n",
    "\n",
    "    def __init__(self, brand, model, year, colour='Black'):\n",
    "        self.brand = brand\n",
    "        self.model = model\n",
    "        self.year = year\n",
    "        self.colour = colour  # Instance attribute\n",
    "        self.odometer_reading = 0\n",
    "\n",
    "    def get_descriptive_name(self):\n",
    "        return f'{self.year} {self.brand} {self.model} ({self.colour})'\n",
    "\n",
    "    def read_odometer(self):\n",
    "        return f'This bike has {self.odometer_reading} kilometers on it.'\n",
    "\n",
    "    def update_odometer(self, mileage):\n",
    "        if mileage >= self.odometer_reading:\n",
    "            self.odometer_reading = mileage\n",
    "        else:\n",
    "            print('You cannot roll back an odometer!')\n",
    "\n",
    "    def ride(self, kilometers):\n",
    "        self.odometer_reading += kilometers\n",
    "\n",
    "    def check_bike_type(self):\n",
    "        return f'This bike is a {self.bike_type} bike.'\n",
    "\n",
    "    def paint(self, colour):\n",
    "        self.colour = colour"
   ]
  },
  {
   "cell_type": "markdown",
   "id": "641a8733",
   "metadata": {},
   "source": [
    "### Exercise 4: Class Inheritance\n",
    "Create a `ElectricBike` that inherits from the `Bike` class. Add an attribute `battery_size` and a method `describe_battery()` that returns a string that contains information about the battery size."
   ]
  },
  {
   "cell_type": "code",
   "execution_count": 18,
   "id": "06503706",
   "metadata": {},
   "outputs": [],
   "source": [
    "class ElectricBike(Bike):\n",
    "    def __init__(self, brand, model, year, battery_size):\n",
    "        super().__init__(brand, model, year)\n",
    "        self.battery_size = battery_size\n",
    "        \n",
    "    def describe_battery(self):\n",
    "        return f'This bike has a {self.battery_size}-kWh battery.'"
   ]
  },
  {
   "cell_type": "markdown",
   "id": "28eba3b5",
   "metadata": {},
   "source": [
    "### Exercise 5: Method Overriding\n",
    "Override the `get_descriptive_name()` method in the `ElectricBike` class to include information about the battery size. \n",
    "\n",
    "EXTENSION: Also add a method `charge_battery()` and another one `show_current_battery_level()`."
   ]
  },
  {
   "cell_type": "code",
   "execution_count": null,
   "id": "67a191cf",
   "metadata": {},
   "outputs": [],
   "source": [
    "# Create a subclass ElectricBike that inherits from Bike\n",
    "class ElectricBike(Bike):\n",
    "    def __init__(self, brand, model, year, battery_size):\n",
    "        super().__init__(brand, model, year)\n",
    "        self.battery_size = battery_size\n",
    "        self.current_battery_level = 0  # Default battery level is 0%\n",
    "\n",
    "    def describe_battery(self):\n",
    "        return f'This bike has a {self.battery_size}-kWh battery.'\n",
    "\n",
    "    def get_descriptive_name(self):\n",
    "        return f'{self.year} {self.brand} {self.mo\n",
    "    del} ({self.colour}) with a {self.battery_size}-kWh battery.'\n",
    "\n",
    "    def charge_battery(self, percentage):\n",
    "        if 0 <= percentage <= 100:\n",
    "            self.current_battery_level = percentage\n",
    "        else:\n",
    "            print(\"Invalid percentage. Please provide a value between 0 and 100.\")\n",
    "\n",
    "    def show_current_battery_level(self):\n",
    "        return f'The current battery level is {self.current_battery_level}%.'"
   ]
  },
  {
   "cell_type": "markdown",
   "id": "46b9d4e0-3a54-4bcf-885a-9f39ce8f1bc9",
   "metadata": {},
   "source": [
    "### Exercise 6: Test Bike class\n",
    "\n",
    "Write a separate test function for each of the methods that you have created for your Bike class. \n",
    "\n",
    "* Create an instance of the class you're testing, initialising it with appropriate test values.\n",
    "* Call the method you want to test, if necessary.\n",
    "* Use an `assert` statement to check that the method's output or the object's state matches the expected result.\n",
    "\n",
    "Use the first one as an example and create the other ones in a similar way.\n",
    "\n",
    "⚠️ Important: Write one dedicated test function for each method. This makes debugging easier because each test isolates a specific piece of functionality."
   ]
  },
  {
   "cell_type": "code",
   "execution_count": null,
   "id": "43d6d720-9052-4403-ace5-2d92734be7dd",
   "metadata": {},
   "outputs": [],
   "source": [
    "def test_bike_get_descriptive_name():\n",
    "    bike = Bike('Brand', 'Model', 2022, 'Red')\n",
    "\n",
    "    assert bike.get_descriptive_name() == '2022 Brand Model (Red)'\n",
    "\n",
    "\n",
    "def test_bike_read_odometer():\n",
    "    bike = Bike('Brand', 'Model', 2022, 'Red')\n",
    "\n",
    "    assert bike.read_odometer() == 'This bike has 0 kilometers on it.'\n",
    "\n",
    "\n",
    "def test_bike_update_odometer():\n",
    "    bike = Bike('Brand', 'Model', 2022, 'Red')\n",
    "\n",
    "    bike.update_odometer(100)\n",
    "    assert bike.read_odometer() == 'This bike has 100 kilometers on it.'\n",
    "\n",
    "\n",
    "def test_bike_ride():\n",
    "    bike = Bike('Brand', 'Model', 2022, 'Red')\n",
    "\n",
    "    bike.ride(50)\n",
    "    assert bike.read_odometer() == 'This bike has 50 kilometers on it.'\n",
    "\n",
    "\n",
    "def test_bike_check_bike_type():\n",
    "    bike = Bike('Brand', 'Model', 2022, 'Red')\n",
    "\n",
    "    assert bike.check_bike_type() == 'This bike is a Mountain bike.'\n",
    "\n",
    "\n",
    "def test_electric_bike_get_descriptive_name():\n",
    "    electric_bike = ElectricBike('Brand', 'Model', 2023, 500)\n",
    "\n",
    "    assert electric_bike.get_descriptive_name() == '2023 Brand Model (Black) with a 500-kWh battery.'\n",
    "\n",
    "\n",
    "def test_electric_bike_describe_battery():\n",
    "    electric_bike = ElectricBike('Brand', 'Model', 2023, 500)\n",
    "\n",
    "    assert electric_bike.describe_battery() == 'This bike has a 500-kWh battery.'\n",
    "\n",
    "\n",
    "def test_charge_battery_valid_percentage():\n",
    "    my_electric_bike = ElectricBike('Specialized', 'Turbo', 2024, 500)\n",
    "    my_electric_bike.charge_battery(50)\n",
    "    assert my_electric_bike.current_battery_level == 50\n",
    "\n",
    "\n",
    "def test_charge_battery_invalid_percentage():\n",
    "    my_electric_bike = ElectricBike('Specialized', 'Turbo', 2024, 500)\n",
    "    my_electric_bike.charge_battery(110)\n",
    "    assert my_electric_bike.current_battery_level == 0\n",
    "\n",
    "\n",
    "def test_show_current_battery_level():\n",
    "    my_electric_bike = ElectricBike('Specialized', 'Turbo', 2024, 500)\n",
    "    my_electric_bike.charge_battery(75)\n",
    "    assert my_electric_bike.show_current_battery_level() == 'The current battery level is 75%.'\n"
   ]
  },
  {
   "cell_type": "markdown",
   "id": "82ba7bd1-7ec2-45ab-98ff-a4919e9b6079",
   "metadata": {},
   "source": [
    "### Exercise 7: Integrate your testing environment\n",
    "\n",
    "Now take the following step to create your testing environment for this example:\n",
    "\n",
    "* in the command line: create a new directory for this project (e.g. calling it `bike_package`)\n",
    "* in the command line: activate the environment you've been using for labs (or create a new one and activate that)\n",
    "* in the command line: install the pytest package by running `pip install pytest`\n",
    "* open the project in your IDE and select the python installation in your virtual environment as the interpreter\n",
    "* inside this `bike_package` directory, create two sub-directories: one called `bike_package` (this is a naming convention for python packages) and one called `tests`\n",
    "* inside the `/bike_package/bike_package` directory, create two empty Python modules: `__init__.py` and `bikes.py`\n",
    "* copy the two classes you created as part of the exercises into `bikes.py` (`__init__.py` can stay empty).\n",
    "* inside the `/bike_package/tests` directory, create a python file called `test_bikes.py`\n",
    "* copy your tests into `test_bikes.py` - what else do you need to add in this file?\n",
    "* go to your command line and run `pytest tests/` - you should now see if your tests are passing or failing?\n",
    "* find out how to set up testing within your IDE (which can be a nice alternative from running `pytest tests/` from the command line."
   ]
  }
 ],
 "metadata": {
  "kernelspec": {
   "display_name": "dsa",
   "language": "python",
   "name": "python3"
  },
  "language_info": {
   "codemirror_mode": {
    "name": "ipython",
    "version": 3
   },
   "file_extension": ".py",
   "mimetype": "text/x-python",
   "name": "python",
   "nbconvert_exporter": "python",
   "pygments_lexer": "ipython3",
   "version": "3.11.11"
  }
 },
 "nbformat": 4,
 "nbformat_minor": 5
}
